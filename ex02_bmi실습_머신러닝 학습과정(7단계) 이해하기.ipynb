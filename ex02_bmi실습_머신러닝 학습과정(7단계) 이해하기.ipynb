{
 "cells": [
  {
   "cell_type": "markdown",
   "id": "3e24cced",
   "metadata": {},
   "source": [
    "[학습목표]\n",
    "- 500명의 키와 몸무게, 비만도 라벨을 이용하여 비만을 판단하는 모델을 생성하기\n",
    "- 머신러닝 전체 과정의 흐름을 이해하기"
   ]
  },
  {
   "cell_type": "markdown",
   "id": "f370c251",
   "metadata": {},
   "source": [
    "###  문제정의\n",
    "- 머신러닝을 통해서 어떤 문제를 해결할 것인가?\n",
    "- 지도학습 vs 비지도학습 vs 강화학습\n",
    "- 지도학습 : 분류 vs 회귀\n",
    "#### 정의완료\n",
    "- 비만을 판단하는 모델을 만들자 -> 지도학습 - 분류"
   ]
  },
  {
   "cell_type": "markdown",
   "id": "2e1e458f",
   "metadata": {},
   "source": [
    "### 데이터 수집\n",
    "- csv 파일로 이루어진 데이터 수집\n",
    "- 500명의 성별, 키, 몸무게, 비만도 등급"
   ]
  },
  {
   "cell_type": "code",
   "execution_count": 1,
   "id": "53f40bcc",
   "metadata": {
    "ExecuteTime": {
     "end_time": "2023-08-23T00:48:40.205133Z",
     "start_time": "2023-08-23T00:48:39.503847Z"
    }
   },
   "outputs": [],
   "source": [
    "# 데이터 꺼내오기\n",
    "import pandas as pd\n"
   ]
  },
  {
   "cell_type": "code",
   "execution_count": 2,
   "id": "fa4122e5",
   "metadata": {
    "ExecuteTime": {
     "end_time": "2023-08-23T00:48:40.236403Z",
     "start_time": "2023-08-23T00:48:40.207124Z"
    }
   },
   "outputs": [
    {
     "data": {
      "text/html": [
       "<div>\n",
       "<style scoped>\n",
       "    .dataframe tbody tr th:only-of-type {\n",
       "        vertical-align: middle;\n",
       "    }\n",
       "\n",
       "    .dataframe tbody tr th {\n",
       "        vertical-align: top;\n",
       "    }\n",
       "\n",
       "    .dataframe thead th {\n",
       "        text-align: right;\n",
       "    }\n",
       "</style>\n",
       "<table border=\"1\" class=\"dataframe\">\n",
       "  <thead>\n",
       "    <tr style=\"text-align: right;\">\n",
       "      <th></th>\n",
       "      <th>Gender</th>\n",
       "      <th>Height</th>\n",
       "      <th>Weight</th>\n",
       "      <th>Label</th>\n",
       "    </tr>\n",
       "  </thead>\n",
       "  <tbody>\n",
       "    <tr>\n",
       "      <th>0</th>\n",
       "      <td>Male</td>\n",
       "      <td>174</td>\n",
       "      <td>96</td>\n",
       "      <td>Obesity</td>\n",
       "    </tr>\n",
       "    <tr>\n",
       "      <th>1</th>\n",
       "      <td>Male</td>\n",
       "      <td>189</td>\n",
       "      <td>87</td>\n",
       "      <td>Normal</td>\n",
       "    </tr>\n",
       "    <tr>\n",
       "      <th>2</th>\n",
       "      <td>Female</td>\n",
       "      <td>185</td>\n",
       "      <td>110</td>\n",
       "      <td>Obesity</td>\n",
       "    </tr>\n",
       "    <tr>\n",
       "      <th>3</th>\n",
       "      <td>Female</td>\n",
       "      <td>195</td>\n",
       "      <td>104</td>\n",
       "      <td>Overweight</td>\n",
       "    </tr>\n",
       "    <tr>\n",
       "      <th>4</th>\n",
       "      <td>Male</td>\n",
       "      <td>149</td>\n",
       "      <td>61</td>\n",
       "      <td>Overweight</td>\n",
       "    </tr>\n",
       "    <tr>\n",
       "      <th>...</th>\n",
       "      <td>...</td>\n",
       "      <td>...</td>\n",
       "      <td>...</td>\n",
       "      <td>...</td>\n",
       "    </tr>\n",
       "    <tr>\n",
       "      <th>495</th>\n",
       "      <td>Female</td>\n",
       "      <td>150</td>\n",
       "      <td>153</td>\n",
       "      <td>Extreme Obesity</td>\n",
       "    </tr>\n",
       "    <tr>\n",
       "      <th>496</th>\n",
       "      <td>Female</td>\n",
       "      <td>184</td>\n",
       "      <td>121</td>\n",
       "      <td>Obesity</td>\n",
       "    </tr>\n",
       "    <tr>\n",
       "      <th>497</th>\n",
       "      <td>Female</td>\n",
       "      <td>141</td>\n",
       "      <td>136</td>\n",
       "      <td>Extreme Obesity</td>\n",
       "    </tr>\n",
       "    <tr>\n",
       "      <th>498</th>\n",
       "      <td>Male</td>\n",
       "      <td>150</td>\n",
       "      <td>95</td>\n",
       "      <td>Extreme Obesity</td>\n",
       "    </tr>\n",
       "    <tr>\n",
       "      <th>499</th>\n",
       "      <td>Male</td>\n",
       "      <td>173</td>\n",
       "      <td>131</td>\n",
       "      <td>Extreme Obesity</td>\n",
       "    </tr>\n",
       "  </tbody>\n",
       "</table>\n",
       "<p>500 rows × 4 columns</p>\n",
       "</div>"
      ],
      "text/plain": [
       "     Gender  Height  Weight            Label\n",
       "0      Male     174      96          Obesity\n",
       "1      Male     189      87           Normal\n",
       "2    Female     185     110          Obesity\n",
       "3    Female     195     104       Overweight\n",
       "4      Male     149      61       Overweight\n",
       "..      ...     ...     ...              ...\n",
       "495  Female     150     153  Extreme Obesity\n",
       "496  Female     184     121          Obesity\n",
       "497  Female     141     136  Extreme Obesity\n",
       "498    Male     150      95  Extreme Obesity\n",
       "499    Male     173     131  Extreme Obesity\n",
       "\n",
       "[500 rows x 4 columns]"
      ]
     },
     "execution_count": 2,
     "metadata": {},
     "output_type": "execute_result"
    }
   ],
   "source": [
    "data = pd.read_csv('./data/bmi_500.csv')\n",
    "data"
   ]
  },
  {
   "cell_type": "markdown",
   "id": "ae3ea43a",
   "metadata": {},
   "source": [
    "### 데이터 전처리\n",
    "- 1. 결측치 처리 : 비어있는 데이터를 채워주기\n",
    "- 2. 이상치 처리 : 정상적인 범위를 벗어난 데이터 수정하기"
   ]
  },
  {
   "cell_type": "markdown",
   "id": "ef7545d8",
   "metadata": {},
   "source": [
    "#### 결측치 확인\n",
    "- 데이터프레임의 형태를 갖춘 후, info() 함수 사용"
   ]
  },
  {
   "cell_type": "code",
   "execution_count": 3,
   "id": "4b9675d0",
   "metadata": {
    "ExecuteTime": {
     "end_time": "2023-08-23T00:48:40.252033Z",
     "start_time": "2023-08-23T00:48:40.240913Z"
    }
   },
   "outputs": [
    {
     "name": "stdout",
     "output_type": "stream",
     "text": [
      "<class 'pandas.core.frame.DataFrame'>\n",
      "RangeIndex: 500 entries, 0 to 499\n",
      "Data columns (total 4 columns):\n",
      " #   Column  Non-Null Count  Dtype \n",
      "---  ------  --------------  ----- \n",
      " 0   Gender  500 non-null    object\n",
      " 1   Height  500 non-null    int64 \n",
      " 2   Weight  500 non-null    int64 \n",
      " 3   Label   500 non-null    object\n",
      "dtypes: int64(2), object(2)\n",
      "memory usage: 15.8+ KB\n"
     ]
    }
   ],
   "source": [
    "data.info()"
   ]
  },
  {
   "cell_type": "markdown",
   "id": "6ca62d06",
   "metadata": {},
   "source": [
    "#### 이상치 확인\n",
    "- 데이터프레임의 형태를 갖춘 후, describe() 함수 사용\n",
    "- describe() : 수치형 데이터만 분석가능, 기술통계"
   ]
  },
  {
   "cell_type": "code",
   "execution_count": 4,
   "id": "ddf61a80",
   "metadata": {
    "ExecuteTime": {
     "end_time": "2023-08-23T00:48:40.267310Z",
     "start_time": "2023-08-23T00:48:40.253470Z"
    }
   },
   "outputs": [
    {
     "data": {
      "text/html": [
       "<div>\n",
       "<style scoped>\n",
       "    .dataframe tbody tr th:only-of-type {\n",
       "        vertical-align: middle;\n",
       "    }\n",
       "\n",
       "    .dataframe tbody tr th {\n",
       "        vertical-align: top;\n",
       "    }\n",
       "\n",
       "    .dataframe thead th {\n",
       "        text-align: right;\n",
       "    }\n",
       "</style>\n",
       "<table border=\"1\" class=\"dataframe\">\n",
       "  <thead>\n",
       "    <tr style=\"text-align: right;\">\n",
       "      <th></th>\n",
       "      <th>Height</th>\n",
       "      <th>Weight</th>\n",
       "    </tr>\n",
       "  </thead>\n",
       "  <tbody>\n",
       "    <tr>\n",
       "      <th>count</th>\n",
       "      <td>500.000000</td>\n",
       "      <td>500.000000</td>\n",
       "    </tr>\n",
       "    <tr>\n",
       "      <th>mean</th>\n",
       "      <td>169.944000</td>\n",
       "      <td>106.000000</td>\n",
       "    </tr>\n",
       "    <tr>\n",
       "      <th>std</th>\n",
       "      <td>16.375261</td>\n",
       "      <td>32.382607</td>\n",
       "    </tr>\n",
       "    <tr>\n",
       "      <th>min</th>\n",
       "      <td>140.000000</td>\n",
       "      <td>50.000000</td>\n",
       "    </tr>\n",
       "    <tr>\n",
       "      <th>25%</th>\n",
       "      <td>156.000000</td>\n",
       "      <td>80.000000</td>\n",
       "    </tr>\n",
       "    <tr>\n",
       "      <th>50%</th>\n",
       "      <td>170.500000</td>\n",
       "      <td>106.000000</td>\n",
       "    </tr>\n",
       "    <tr>\n",
       "      <th>75%</th>\n",
       "      <td>184.000000</td>\n",
       "      <td>136.000000</td>\n",
       "    </tr>\n",
       "    <tr>\n",
       "      <th>max</th>\n",
       "      <td>199.000000</td>\n",
       "      <td>160.000000</td>\n",
       "    </tr>\n",
       "  </tbody>\n",
       "</table>\n",
       "</div>"
      ],
      "text/plain": [
       "           Height      Weight\n",
       "count  500.000000  500.000000\n",
       "mean   169.944000  106.000000\n",
       "std     16.375261   32.382607\n",
       "min    140.000000   50.000000\n",
       "25%    156.000000   80.000000\n",
       "50%    170.500000  106.000000\n",
       "75%    184.000000  136.000000\n",
       "max    199.000000  160.000000"
      ]
     },
     "execution_count": 4,
     "metadata": {},
     "output_type": "execute_result"
    }
   ],
   "source": [
    "data.describe()\n",
    "# count : 데이터 수\n",
    "# mean : 평균값\n",
    "# std : 표준편차\n",
    "# min : 최소값\n",
    "# 25% : 1분위수\n",
    "# 50% : 중앙값(중위수)\n",
    "# 75% : 3분위수\n",
    "# max : 최대값\n",
    "\n",
    "# 이상치확인\n",
    "# 1. min, max 확인하기 - 이상없음\n",
    "# 2. 평균(mean), 중앙값(50%) 확인하기 ==> 두 수치가 비슷한지 확인 - 이상없음\n",
    "# 3. 위의 두 수치가 비슷하지 않을경우 : min ~ max 까지 5개의 간격을 확인하기\n",
    "#     => 각 구간의 데이터가 고르게 분포가 되어있는지 확인\n",
    "\n",
    "# 결측치, 이상치 문제없음"
   ]
  },
  {
   "cell_type": "markdown",
   "id": "9001b1ca",
   "metadata": {},
   "source": [
    "### 탐색적 데이터 분석(EDA)\n",
    "- 데이터를 자세하게 살펴보자\n",
    "- 비만도별로 데이터가 잘 나뉘어져있는지 확인"
   ]
  },
  {
   "cell_type": "markdown",
   "id": "fea50a2f",
   "metadata": {},
   "source": [
    "#### 비만도 등급 확인"
   ]
  },
  {
   "cell_type": "code",
   "execution_count": 5,
   "id": "90ec96e7",
   "metadata": {
    "ExecuteTime": {
     "end_time": "2023-08-23T00:48:40.282743Z",
     "start_time": "2023-08-23T00:48:40.269305Z"
    }
   },
   "outputs": [
    {
     "data": {
      "text/plain": [
       "array(['Obesity', 'Normal', 'Overweight', 'Extreme Obesity', 'Weak',\n",
       "       'Extremely Weak'], dtype=object)"
      ]
     },
     "execution_count": 5,
     "metadata": {},
     "output_type": "execute_result"
    }
   ],
   "source": [
    "# 중복된 값은 제거 - unique()\n",
    "data['Label'].unique()\n",
    "# 'Obesity' 비만\n",
    "# 'Normal'  정상\n",
    "# 'Overweight' 과체중\n",
    "# 'Extreme Obesity' 고도비만\n",
    "# 'Weak'       저체중\n",
    "# 'Extremely Weak' 극심한 저체중\n",
    "\n",
    "# 총 6개의 등급으로 나뉘어져있음"
   ]
  },
  {
   "cell_type": "markdown",
   "id": "c981aacc",
   "metadata": {},
   "source": [
    "#### Label이 Weak인 사람들만 추려보기"
   ]
  },
  {
   "cell_type": "code",
   "execution_count": 6,
   "id": "05932b6b",
   "metadata": {
    "ExecuteTime": {
     "end_time": "2023-08-23T00:48:40.298159Z",
     "start_time": "2023-08-23T00:48:40.284741Z"
    }
   },
   "outputs": [
    {
     "data": {
      "text/html": [
       "<div>\n",
       "<style scoped>\n",
       "    .dataframe tbody tr th:only-of-type {\n",
       "        vertical-align: middle;\n",
       "    }\n",
       "\n",
       "    .dataframe tbody tr th {\n",
       "        vertical-align: top;\n",
       "    }\n",
       "\n",
       "    .dataframe thead th {\n",
       "        text-align: right;\n",
       "    }\n",
       "</style>\n",
       "<table border=\"1\" class=\"dataframe\">\n",
       "  <thead>\n",
       "    <tr style=\"text-align: right;\">\n",
       "      <th></th>\n",
       "      <th>Gender</th>\n",
       "      <th>Height</th>\n",
       "      <th>Weight</th>\n",
       "      <th>Label</th>\n",
       "    </tr>\n",
       "  </thead>\n",
       "  <tbody>\n",
       "    <tr>\n",
       "      <th>27</th>\n",
       "      <td>Male</td>\n",
       "      <td>187</td>\n",
       "      <td>62</td>\n",
       "      <td>Weak</td>\n",
       "    </tr>\n",
       "    <tr>\n",
       "      <th>31</th>\n",
       "      <td>Male</td>\n",
       "      <td>178</td>\n",
       "      <td>52</td>\n",
       "      <td>Weak</td>\n",
       "    </tr>\n",
       "    <tr>\n",
       "      <th>32</th>\n",
       "      <td>Female</td>\n",
       "      <td>195</td>\n",
       "      <td>65</td>\n",
       "      <td>Weak</td>\n",
       "    </tr>\n",
       "    <tr>\n",
       "      <th>51</th>\n",
       "      <td>Female</td>\n",
       "      <td>176</td>\n",
       "      <td>54</td>\n",
       "      <td>Weak</td>\n",
       "    </tr>\n",
       "    <tr>\n",
       "      <th>98</th>\n",
       "      <td>Male</td>\n",
       "      <td>195</td>\n",
       "      <td>69</td>\n",
       "      <td>Weak</td>\n",
       "    </tr>\n",
       "    <tr>\n",
       "      <th>200</th>\n",
       "      <td>Male</td>\n",
       "      <td>184</td>\n",
       "      <td>57</td>\n",
       "      <td>Weak</td>\n",
       "    </tr>\n",
       "    <tr>\n",
       "      <th>242</th>\n",
       "      <td>Male</td>\n",
       "      <td>191</td>\n",
       "      <td>62</td>\n",
       "      <td>Weak</td>\n",
       "    </tr>\n",
       "    <tr>\n",
       "      <th>269</th>\n",
       "      <td>Male</td>\n",
       "      <td>168</td>\n",
       "      <td>50</td>\n",
       "      <td>Weak</td>\n",
       "    </tr>\n",
       "    <tr>\n",
       "      <th>279</th>\n",
       "      <td>Male</td>\n",
       "      <td>188</td>\n",
       "      <td>57</td>\n",
       "      <td>Weak</td>\n",
       "    </tr>\n",
       "    <tr>\n",
       "      <th>280</th>\n",
       "      <td>Male</td>\n",
       "      <td>193</td>\n",
       "      <td>65</td>\n",
       "      <td>Weak</td>\n",
       "    </tr>\n",
       "    <tr>\n",
       "      <th>308</th>\n",
       "      <td>Male</td>\n",
       "      <td>196</td>\n",
       "      <td>69</td>\n",
       "      <td>Weak</td>\n",
       "    </tr>\n",
       "    <tr>\n",
       "      <th>358</th>\n",
       "      <td>Female</td>\n",
       "      <td>180</td>\n",
       "      <td>58</td>\n",
       "      <td>Weak</td>\n",
       "    </tr>\n",
       "    <tr>\n",
       "      <th>360</th>\n",
       "      <td>Female</td>\n",
       "      <td>193</td>\n",
       "      <td>61</td>\n",
       "      <td>Weak</td>\n",
       "    </tr>\n",
       "    <tr>\n",
       "      <th>372</th>\n",
       "      <td>Male</td>\n",
       "      <td>185</td>\n",
       "      <td>60</td>\n",
       "      <td>Weak</td>\n",
       "    </tr>\n",
       "    <tr>\n",
       "      <th>381</th>\n",
       "      <td>Male</td>\n",
       "      <td>191</td>\n",
       "      <td>62</td>\n",
       "      <td>Weak</td>\n",
       "    </tr>\n",
       "    <tr>\n",
       "      <th>410</th>\n",
       "      <td>Male</td>\n",
       "      <td>179</td>\n",
       "      <td>56</td>\n",
       "      <td>Weak</td>\n",
       "    </tr>\n",
       "    <tr>\n",
       "      <th>420</th>\n",
       "      <td>Female</td>\n",
       "      <td>195</td>\n",
       "      <td>61</td>\n",
       "      <td>Weak</td>\n",
       "    </tr>\n",
       "    <tr>\n",
       "      <th>424</th>\n",
       "      <td>Male</td>\n",
       "      <td>174</td>\n",
       "      <td>54</td>\n",
       "      <td>Weak</td>\n",
       "    </tr>\n",
       "    <tr>\n",
       "      <th>425</th>\n",
       "      <td>Female</td>\n",
       "      <td>180</td>\n",
       "      <td>59</td>\n",
       "      <td>Weak</td>\n",
       "    </tr>\n",
       "    <tr>\n",
       "      <th>438</th>\n",
       "      <td>Male</td>\n",
       "      <td>188</td>\n",
       "      <td>65</td>\n",
       "      <td>Weak</td>\n",
       "    </tr>\n",
       "    <tr>\n",
       "      <th>462</th>\n",
       "      <td>Male</td>\n",
       "      <td>179</td>\n",
       "      <td>56</td>\n",
       "      <td>Weak</td>\n",
       "    </tr>\n",
       "    <tr>\n",
       "      <th>493</th>\n",
       "      <td>Female</td>\n",
       "      <td>170</td>\n",
       "      <td>53</td>\n",
       "      <td>Weak</td>\n",
       "    </tr>\n",
       "  </tbody>\n",
       "</table>\n",
       "</div>"
      ],
      "text/plain": [
       "     Gender  Height  Weight Label\n",
       "27     Male     187      62  Weak\n",
       "31     Male     178      52  Weak\n",
       "32   Female     195      65  Weak\n",
       "51   Female     176      54  Weak\n",
       "98     Male     195      69  Weak\n",
       "200    Male     184      57  Weak\n",
       "242    Male     191      62  Weak\n",
       "269    Male     168      50  Weak\n",
       "279    Male     188      57  Weak\n",
       "280    Male     193      65  Weak\n",
       "308    Male     196      69  Weak\n",
       "358  Female     180      58  Weak\n",
       "360  Female     193      61  Weak\n",
       "372    Male     185      60  Weak\n",
       "381    Male     191      62  Weak\n",
       "410    Male     179      56  Weak\n",
       "420  Female     195      61  Weak\n",
       "424    Male     174      54  Weak\n",
       "425  Female     180      59  Weak\n",
       "438    Male     188      65  Weak\n",
       "462    Male     179      56  Weak\n",
       "493  Female     170      53  Weak"
      ]
     },
     "execution_count": 6,
     "metadata": {},
     "output_type": "execute_result"
    }
   ],
   "source": [
    "# 불리언 인덱싱\n",
    "# data[data['Label'] == 'Weak']\n",
    "\n",
    "\n",
    "bol = data['Label'] == 'Weak' # 불리언 인덱싱한 결과를 사용하기 위해 변수에 저장\n",
    "label = data.loc[bol] # 라벨이 Weak인 전체 행에대한 데이터를 가져옴\n",
    "label\n"
   ]
  },
  {
   "cell_type": "markdown",
   "id": "73f60b7d",
   "metadata": {},
   "source": [
    "####  Weak인 사람들을 그래프로 그려보기\n",
    "- 산점도"
   ]
  },
  {
   "cell_type": "code",
   "execution_count": 7,
   "id": "15875c95",
   "metadata": {
    "ExecuteTime": {
     "end_time": "2023-08-23T00:48:40.935677Z",
     "start_time": "2023-08-23T00:48:40.299155Z"
    }
   },
   "outputs": [
    {
     "data": {
      "image/png": "[encoded data removed]",
      "text/plain": [
       "<Figure size 640x480 with 1 Axes>"
      ]
     },
     "metadata": {},
     "output_type": "display_data"
    }
   ],
   "source": [
    "# 그래프 그려주는 도구 꺼내오기\n",
    "import matplotlib.pyplot as plt\n",
    "\n",
    "# plt.scatter(x, y) # X 축 : 키 , Y축 : 몸무게\n",
    "\n",
    "x = label['Height']\n",
    "y= label['Weight']\n",
    "\n",
    "plt.scatter(x,y, color='blue', label='Weak')\n",
    "plt.legend() # 그래프에 범례(label) 표시\n",
    "plt.show()"
   ]
  },
  {
   "cell_type": "markdown",
   "id": "aefaae92",
   "metadata": {},
   "source": [
    "#### OverWeight 그래프 그리기"
   ]
  },
  {
   "cell_type": "code",
   "execution_count": 8,
   "id": "9b3eb226",
   "metadata": {
    "ExecuteTime": {
     "end_time": "2023-08-23T00:48:41.091987Z",
     "start_time": "2023-08-23T00:48:40.937687Z"
    }
   },
   "outputs": [
    {
     "data": {
      "image/png": "[encoded data removed]",
      "text/plain": [
       "<Figure size 640x480 with 1 Axes>"
      ]
     },
     "metadata": {},
     "output_type": "display_data"
    }
   ],
   "source": [
    "overData =data['Label'] == 'Overweight'\n",
    "over = data.loc[overData]\n",
    "\n",
    "overX = over['Height']\n",
    "overY = over['Weight']\n",
    "plt.scatter(overX,overY, color='purple', label='Overweight')\n",
    "plt.legend()\n",
    "plt.show()"
   ]
  },
  {
   "cell_type": "markdown",
   "id": "58950f8d",
   "metadata": {},
   "source": [
    "#### 함수로 만들어서 그래프 그리기\n",
    "- 반복되는 부분을 함수로 간략화"
   ]
  },
  {
   "cell_type": "code",
   "execution_count": 9,
   "id": "0dc61348",
   "metadata": {
    "ExecuteTime": {
     "end_time": "2023-08-23T00:48:41.107486Z",
     "start_time": "2023-08-23T00:48:41.096244Z"
    }
   },
   "outputs": [],
   "source": [
    "def myScatter(label, color):\n",
    "    bol = data['Label'] == label\n",
    "    result = data.loc[bol]\n",
    "    \n",
    "    plt.scatter(result['Height'], result['Weight'], color = color, label = label)"
   ]
  },
  {
   "cell_type": "code",
   "execution_count": 10,
   "id": "1f3e8937",
   "metadata": {
    "ExecuteTime": {
     "end_time": "2023-08-23T00:48:41.390782Z",
     "start_time": "2023-08-23T00:48:41.110478Z"
    }
   },
   "outputs": [
    {
     "data": {
      "image/png": "[encoded data removed]",
      "text/plain": [
       "<Figure size 1200x800 with 1 Axes>"
      ]
     },
     "metadata": {},
     "output_type": "display_data"
    }
   ],
   "source": [
    "plt.figure(figsize=(12,8)) # 그래프 사이즈 지정\n",
    "myScatter('Obesity', 'red')\n",
    "myScatter('Normal','blue')\n",
    "myScatter('Overweight','black')\n",
    "myScatter('Extreme Obesity','orange')\n",
    "myScatter('Weak', 'yellow')\n",
    "myScatter('Extremely Weak', 'green')\n",
    "plt.legend()\n",
    "plt.show()"
   ]
  },
  {
   "cell_type": "code",
   "execution_count": 11,
   "id": "d5892eff",
   "metadata": {
    "ExecuteTime": {
     "end_time": "2023-08-23T00:48:41.405550Z",
     "start_time": "2023-08-23T00:48:41.392989Z"
    }
   },
   "outputs": [
    {
     "data": {
      "text/html": [
       "<div>\n",
       "<style scoped>\n",
       "    .dataframe tbody tr th:only-of-type {\n",
       "        vertical-align: middle;\n",
       "    }\n",
       "\n",
       "    .dataframe tbody tr th {\n",
       "        vertical-align: top;\n",
       "    }\n",
       "\n",
       "    .dataframe thead th {\n",
       "        text-align: right;\n",
       "    }\n",
       "</style>\n",
       "<table border=\"1\" class=\"dataframe\">\n",
       "  <thead>\n",
       "    <tr style=\"text-align: right;\">\n",
       "      <th></th>\n",
       "      <th>Gender</th>\n",
       "      <th>Height</th>\n",
       "      <th>Weight</th>\n",
       "      <th>Label</th>\n",
       "    </tr>\n",
       "  </thead>\n",
       "  <tbody>\n",
       "    <tr>\n",
       "      <th>15</th>\n",
       "      <td>Female</td>\n",
       "      <td>153</td>\n",
       "      <td>107</td>\n",
       "      <td>Extreme Obesity</td>\n",
       "    </tr>\n",
       "    <tr>\n",
       "      <th>21</th>\n",
       "      <td>Female</td>\n",
       "      <td>153</td>\n",
       "      <td>149</td>\n",
       "      <td>Extreme Obesity</td>\n",
       "    </tr>\n",
       "    <tr>\n",
       "      <th>30</th>\n",
       "      <td>Male</td>\n",
       "      <td>153</td>\n",
       "      <td>121</td>\n",
       "      <td>Extreme Obesity</td>\n",
       "    </tr>\n",
       "    <tr>\n",
       "      <th>70</th>\n",
       "      <td>Female</td>\n",
       "      <td>153</td>\n",
       "      <td>51</td>\n",
       "      <td>Normal</td>\n",
       "    </tr>\n",
       "    <tr>\n",
       "      <th>212</th>\n",
       "      <td>Female</td>\n",
       "      <td>153</td>\n",
       "      <td>146</td>\n",
       "      <td>Extreme Obesity</td>\n",
       "    </tr>\n",
       "    <tr>\n",
       "      <th>231</th>\n",
       "      <td>Female</td>\n",
       "      <td>153</td>\n",
       "      <td>78</td>\n",
       "      <td>Normal</td>\n",
       "    </tr>\n",
       "    <tr>\n",
       "      <th>250</th>\n",
       "      <td>Male</td>\n",
       "      <td>153</td>\n",
       "      <td>70</td>\n",
       "      <td>Overweight</td>\n",
       "    </tr>\n",
       "    <tr>\n",
       "      <th>322</th>\n",
       "      <td>Male</td>\n",
       "      <td>153</td>\n",
       "      <td>104</td>\n",
       "      <td>Extreme Obesity</td>\n",
       "    </tr>\n",
       "    <tr>\n",
       "      <th>428</th>\n",
       "      <td>Female</td>\n",
       "      <td>153</td>\n",
       "      <td>77</td>\n",
       "      <td>Obesity</td>\n",
       "    </tr>\n",
       "    <tr>\n",
       "      <th>436</th>\n",
       "      <td>Female</td>\n",
       "      <td>153</td>\n",
       "      <td>133</td>\n",
       "      <td>Extreme Obesity</td>\n",
       "    </tr>\n",
       "  </tbody>\n",
       "</table>\n",
       "</div>"
      ],
      "text/plain": [
       "     Gender  Height  Weight            Label\n",
       "15   Female     153     107  Extreme Obesity\n",
       "21   Female     153     149  Extreme Obesity\n",
       "30     Male     153     121  Extreme Obesity\n",
       "70   Female     153      51           Normal\n",
       "212  Female     153     146  Extreme Obesity\n",
       "231  Female     153      78           Normal\n",
       "250    Male     153      70       Overweight\n",
       "322    Male     153     104  Extreme Obesity\n",
       "428  Female     153      77          Obesity\n",
       "436  Female     153     133  Extreme Obesity"
      ]
     },
     "execution_count": 11,
     "metadata": {},
     "output_type": "execute_result"
    }
   ],
   "source": [
    "data[data['Label'] == 'Normal']\n",
    "h_153 = data[data['Height'] == 153]\n",
    "h_153\n",
    "# 231 Female 153 78 Normal => Obesity"
   ]
  },
  {
   "cell_type": "code",
   "execution_count": 12,
   "id": "42050d36",
   "metadata": {
    "ExecuteTime": {
     "end_time": "2023-08-23T00:48:41.421556Z",
     "start_time": "2023-08-23T00:48:41.407544Z"
    }
   },
   "outputs": [],
   "source": [
    "# 키가 153이고 몸무게가 78kg인 여성을 Normal로 잘못 표기된 것을 Obesity로 수정\n",
    "data.loc[231, 'Label'] = 'Obesity'"
   ]
  },
  {
   "cell_type": "code",
   "execution_count": 13,
   "id": "d12f5170",
   "metadata": {
    "ExecuteTime": {
     "end_time": "2023-08-23T00:48:41.436721Z",
     "start_time": "2023-08-23T00:48:41.424085Z"
    }
   },
   "outputs": [
    {
     "data": {
      "text/html": [
       "<div>\n",
       "<style scoped>\n",
       "    .dataframe tbody tr th:only-of-type {\n",
       "        vertical-align: middle;\n",
       "    }\n",
       "\n",
       "    .dataframe tbody tr th {\n",
       "        vertical-align: top;\n",
       "    }\n",
       "\n",
       "    .dataframe thead th {\n",
       "        text-align: right;\n",
       "    }\n",
       "</style>\n",
       "<table border=\"1\" class=\"dataframe\">\n",
       "  <thead>\n",
       "    <tr style=\"text-align: right;\">\n",
       "      <th></th>\n",
       "      <th>Gender</th>\n",
       "      <th>Height</th>\n",
       "      <th>Weight</th>\n",
       "      <th>Label</th>\n",
       "    </tr>\n",
       "  </thead>\n",
       "  <tbody>\n",
       "    <tr>\n",
       "      <th>231</th>\n",
       "      <td>Female</td>\n",
       "      <td>153</td>\n",
       "      <td>78</td>\n",
       "      <td>Obesity</td>\n",
       "    </tr>\n",
       "  </tbody>\n",
       "</table>\n",
       "</div>"
      ],
      "text/plain": [
       "     Gender  Height  Weight    Label\n",
       "231  Female     153      78  Obesity"
      ]
     },
     "execution_count": 13,
     "metadata": {},
     "output_type": "execute_result"
    }
   ],
   "source": [
    "data.loc[[231]]"
   ]
  },
  {
   "cell_type": "markdown",
   "id": "098917e0",
   "metadata": {},
   "source": [
    "### 모델 선택 및 하이퍼파라미터 튜닝\n",
    "- 머신러닝의 모델 불러와서 사용하는 단계"
   ]
  },
  {
   "cell_type": "markdown",
   "id": "6d0ff7a6",
   "metadata": {},
   "source": [
    "#### 모델 불러오기\n",
    "- KNN 모델"
   ]
  },
  {
   "cell_type": "code",
   "execution_count": 30,
   "id": "c96f3bd4",
   "metadata": {
    "ExecuteTime": {
     "end_time": "2023-08-23T01:01:50.121873Z",
     "start_time": "2023-08-23T01:01:50.107376Z"
    }
   },
   "outputs": [],
   "source": [
    "from sklearn.neighbors import KNeighborsClassifier\n",
    "knn_model = KNeighborsClassifier(n_neighbors=4) # 기본값"
   ]
  },
  {
   "cell_type": "markdown",
   "id": "080d5912",
   "metadata": {},
   "source": [
    "#### 문제데이터와 정답데이터로 분리"
   ]
  },
  {
   "cell_type": "code",
   "execution_count": 15,
   "id": "e8c105d7",
   "metadata": {
    "ExecuteTime": {
     "end_time": "2023-08-23T00:48:42.447539Z",
     "start_time": "2023-08-23T00:48:42.433837Z"
    }
   },
   "outputs": [
    {
     "data": {
      "text/html": [
       "<div>\n",
       "<style scoped>\n",
       "    .dataframe tbody tr th:only-of-type {\n",
       "        vertical-align: middle;\n",
       "    }\n",
       "\n",
       "    .dataframe tbody tr th {\n",
       "        vertical-align: top;\n",
       "    }\n",
       "\n",
       "    .dataframe thead th {\n",
       "        text-align: right;\n",
       "    }\n",
       "</style>\n",
       "<table border=\"1\" class=\"dataframe\">\n",
       "  <thead>\n",
       "    <tr style=\"text-align: right;\">\n",
       "      <th></th>\n",
       "      <th>Height</th>\n",
       "      <th>Weight</th>\n",
       "    </tr>\n",
       "  </thead>\n",
       "  <tbody>\n",
       "    <tr>\n",
       "      <th>0</th>\n",
       "      <td>174</td>\n",
       "      <td>96</td>\n",
       "    </tr>\n",
       "    <tr>\n",
       "      <th>1</th>\n",
       "      <td>189</td>\n",
       "      <td>87</td>\n",
       "    </tr>\n",
       "    <tr>\n",
       "      <th>2</th>\n",
       "      <td>185</td>\n",
       "      <td>110</td>\n",
       "    </tr>\n",
       "    <tr>\n",
       "      <th>3</th>\n",
       "      <td>195</td>\n",
       "      <td>104</td>\n",
       "    </tr>\n",
       "    <tr>\n",
       "      <th>4</th>\n",
       "      <td>149</td>\n",
       "      <td>61</td>\n",
       "    </tr>\n",
       "    <tr>\n",
       "      <th>...</th>\n",
       "      <td>...</td>\n",
       "      <td>...</td>\n",
       "    </tr>\n",
       "    <tr>\n",
       "      <th>495</th>\n",
       "      <td>150</td>\n",
       "      <td>153</td>\n",
       "    </tr>\n",
       "    <tr>\n",
       "      <th>496</th>\n",
       "      <td>184</td>\n",
       "      <td>121</td>\n",
       "    </tr>\n",
       "    <tr>\n",
       "      <th>497</th>\n",
       "      <td>141</td>\n",
       "      <td>136</td>\n",
       "    </tr>\n",
       "    <tr>\n",
       "      <th>498</th>\n",
       "      <td>150</td>\n",
       "      <td>95</td>\n",
       "    </tr>\n",
       "    <tr>\n",
       "      <th>499</th>\n",
       "      <td>173</td>\n",
       "      <td>131</td>\n",
       "    </tr>\n",
       "  </tbody>\n",
       "</table>\n",
       "<p>500 rows × 2 columns</p>\n",
       "</div>"
      ],
      "text/plain": [
       "     Height  Weight\n",
       "0       174      96\n",
       "1       189      87\n",
       "2       185     110\n",
       "3       195     104\n",
       "4       149      61\n",
       "..      ...     ...\n",
       "495     150     153\n",
       "496     184     121\n",
       "497     141     136\n",
       "498     150      95\n",
       "499     173     131\n",
       "\n",
       "[500 rows x 2 columns]"
      ]
     },
     "metadata": {},
     "output_type": "display_data"
    },
    {
     "data": {
      "text/plain": [
       "0              Obesity\n",
       "1               Normal\n",
       "2              Obesity\n",
       "3           Overweight\n",
       "4           Overweight\n",
       "            ...       \n",
       "495    Extreme Obesity\n",
       "496            Obesity\n",
       "497    Extreme Obesity\n",
       "498    Extreme Obesity\n",
       "499    Extreme Obesity\n",
       "Name: Label, Length: 500, dtype: object"
      ]
     },
     "metadata": {},
     "output_type": "display_data"
    }
   ],
   "source": [
    "# 문제 : Height, Weight \n",
    "X = data.loc[:,'Height':'Weight']\n",
    "# 정답 : Label\n",
    "y = data['Label']\n",
    "display(X)\n",
    "display(y)"
   ]
  },
  {
   "cell_type": "markdown",
   "id": "e24dec53",
   "metadata": {},
   "source": [
    "#### 학습을 위해 훈련용(train)과 평가용(test)로 분리\n",
    "- 훈련 : 평가 = 7 : 3"
   ]
  },
  {
   "cell_type": "code",
   "execution_count": 16,
   "id": "fa9f4a14",
   "metadata": {
    "ExecuteTime": {
     "end_time": "2023-08-23T00:48:42.463596Z",
     "start_time": "2023-08-23T00:48:42.448537Z"
    }
   },
   "outputs": [
    {
     "name": "stdout",
     "output_type": "stream",
     "text": [
      "훈련용 문제 : (350, 2)\n",
      "평가용 문제 :  (150, 2)\n",
      "훈련용 정답 :  (350,)\n",
      "평가용 정답 :  (150,)\n"
     ]
    }
   ],
   "source": [
    "X_train = X[:350] # 0 ~ 349 훈련용 문제\n",
    "X_test = X[350:]  # 350 ~ 500 평가용 문제\n",
    "y_train = y[:350] # 0 ~ 349 훈련용 정답\n",
    "y_test = y[350:]  # 350 ~ 500 평가용 정답\n",
    "print('훈련용 문제 :', X_train.shape)\n",
    "print('평가용 문제 : ', X_test.shape)\n",
    "print('훈련용 정답 : ', y_train.shape)\n",
    "print('평가용 정답 : ', y_test.shape)"
   ]
  },
  {
   "cell_type": "markdown",
   "id": "1813f106",
   "metadata": {},
   "source": [
    "### 학습"
   ]
  },
  {
   "cell_type": "code",
   "execution_count": 31,
   "id": "a30487c2",
   "metadata": {
    "ExecuteTime": {
     "end_time": "2023-08-23T01:01:53.537872Z",
     "start_time": "2023-08-23T01:01:53.515864Z"
    }
   },
   "outputs": [
    {
     "data": {
      "text/html": [
       "<style>#sk-container-id-4 {color: black;}#sk-container-id-4 pre{padding: 0;}#sk-container-id-4 div.sk-toggleable {background-color: white;}#sk-container-id-4 label.sk-toggleable__label {cursor: pointer;display: block;width: 100%;margin-bottom: 0;padding: 0.3em;box-sizing: border-box;text-align: center;}#sk-container-id-4 label.sk-toggleable__label-arrow:before {content: \"▸\";float: left;margin-right: 0.25em;color: #696969;}#sk-container-id-4 label.sk-toggleable__label-arrow:hover:before {color: black;}#sk-container-id-4 div.sk-estimator:hover label.sk-toggleable__label-arrow:before {color: black;}#sk-container-id-4 div.sk-toggleable__content {max-height: 0;max-width: 0;overflow: hidden;text-align: left;background-color: #f0f8ff;}#sk-container-id-4 div.sk-toggleable__content pre {margin: 0.2em;color: black;border-radius: 0.25em;background-color: #f0f8ff;}#sk-container-id-4 input.sk-toggleable__control:checked~div.sk-toggleable__content {max-height: 200px;max-width: 100%;overflow: auto;}#sk-container-id-4 input.sk-toggleable__control:checked~label.sk-toggleable__label-arrow:before {content: \"▾\";}#sk-container-id-4 div.sk-estimator input.sk-toggleable__control:checked~label.sk-toggleable__label {background-color: #d4ebff;}#sk-container-id-4 div.sk-label input.sk-toggleable__control:checked~label.sk-toggleable__label {background-color: #d4ebff;}#sk-container-id-4 input.sk-hidden--visually {border: 0;clip: rect(1px 1px 1px 1px);clip: rect(1px, 1px, 1px, 1px);height: 1px;margin: -1px;overflow: hidden;padding: 0;position: absolute;width: 1px;}#sk-container-id-4 div.sk-estimator {font-family: monospace;background-color: #f0f8ff;border: 1px dotted black;border-radius: 0.25em;box-sizing: border-box;margin-bottom: 0.5em;}#sk-container-id-4 div.sk-estimator:hover {background-color: #d4ebff;}#sk-container-id-4 div.sk-parallel-item::after {content: \"\";width: 100%;border-bottom: 1px solid gray;flex-grow: 1;}#sk-container-id-4 div.sk-label:hover label.sk-toggleable__label {background-color: #d4ebff;}#sk-container-id-4 div.sk-serial::before {content: \"\";position: absolute;border-left: 1px solid gray;box-sizing: border-box;top: 0;bottom: 0;left: 50%;z-index: 0;}#sk-container-id-4 div.sk-serial {display: flex;flex-direction: column;align-items: center;background-color: white;padding-right: 0.2em;padding-left: 0.2em;position: relative;}#sk-container-id-4 div.sk-item {position: relative;z-index: 1;}#sk-container-id-4 div.sk-parallel {display: flex;align-items: stretch;justify-content: center;background-color: white;position: relative;}#sk-container-id-4 div.sk-item::before, #sk-container-id-4 div.sk-parallel-item::before {content: \"\";position: absolute;border-left: 1px solid gray;box-sizing: border-box;top: 0;bottom: 0;left: 50%;z-index: -1;}#sk-container-id-4 div.sk-parallel-item {display: flex;flex-direction: column;z-index: 1;position: relative;background-color: white;}#sk-container-id-4 div.sk-parallel-item:first-child::after {align-self: flex-end;width: 50%;}#sk-container-id-4 div.sk-parallel-item:last-child::after {align-self: flex-start;width: 50%;}#sk-container-id-4 div.sk-parallel-item:only-child::after {width: 0;}#sk-container-id-4 div.sk-dashed-wrapped {border: 1px dashed gray;margin: 0 0.4em 0.5em 0.4em;box-sizing: border-box;padding-bottom: 0.4em;background-color: white;}#sk-container-id-4 div.sk-label label {font-family: monospace;font-weight: bold;display: inline-block;line-height: 1.2em;}#sk-container-id-4 div.sk-label-container {text-align: center;}#sk-container-id-4 div.sk-container {/* jupyter's `normalize.less` sets `[hidden] { display: none; }` but bootstrap.min.css set `[hidden] { display: none !important; }` so we also need the `!important` here to be able to override the default hidden behavior on the sphinx rendered scikit-learn.org. See: https://github.com/scikit-learn/scikit-learn/issues/21755 */display: inline-block !important;position: relative;}#sk-container-id-4 div.sk-text-repr-fallback {display: none;}</style><div id=\"sk-container-id-4\" class=\"sk-top-container\"><div class=\"sk-text-repr-fallback\"><pre>KNeighborsClassifier(n_neighbors=4)</pre><b>In a Jupyter environment, please rerun this cell to show the HTML representation or trust the notebook. <br />On GitHub, the HTML representation is unable to render, please try loading this page with nbviewer.org.</b></div><div class=\"sk-container\" hidden><div class=\"sk-item\"><div class=\"sk-estimator sk-toggleable\"><input class=\"sk-toggleable__control sk-hidden--visually\" id=\"sk-estimator-id-4\" type=\"checkbox\" checked><label for=\"sk-estimator-id-4\" class=\"sk-toggleable__label sk-toggleable__label-arrow\">KNeighborsClassifier</label><div class=\"sk-toggleable__content\"><pre>KNeighborsClassifier(n_neighbors=4)</pre></div></div></div></div></div>"
      ],
      "text/plain": [
       "KNeighborsClassifier(n_neighbors=4)"
      ]
     },
     "execution_count": 31,
     "metadata": {},
     "output_type": "execute_result"
    }
   ],
   "source": [
    "# 학습시키는 함수 fit(문제, 정답)\n",
    "knn_model.fit(X_train, y_train)\n",
    "# X 데이터(키, 몸무게)\n",
    "# y 데이터(비만도 등급)\n",
    "# X 데이터를 통해서 y 데이터의 규칙을 찾음"
   ]
  },
  {
   "cell_type": "markdown",
   "id": "f9be2d6f",
   "metadata": {},
   "source": [
    "### 평가\n",
    "- 모델이 제대로 만들어졌는지 평가\n",
    "- 새로운 데이터(평가용으로 분리한 데이터)에 대해서 잘 예측 하는지 확인"
   ]
  },
  {
   "cell_type": "markdown",
   "id": "140faddc",
   "metadata": {},
   "source": [
    "#### 머신러닝 학습을 할때 자주뜨는 warning 무시하기"
   ]
  },
  {
   "cell_type": "code",
   "execution_count": 18,
   "id": "18699166",
   "metadata": {
    "ExecuteTime": {
     "end_time": "2023-08-23T00:48:42.495584Z",
     "start_time": "2023-08-23T00:48:42.481024Z"
    }
   },
   "outputs": [],
   "source": [
    "import warnings\n",
    "warnings.filterwarnings('ignore') # warning 무시하기"
   ]
  },
  {
   "cell_type": "code",
   "execution_count": 19,
   "id": "513f32d4",
   "metadata": {
    "ExecuteTime": {
     "end_time": "2023-08-23T00:48:42.510771Z",
     "start_time": "2023-08-23T00:48:42.498577Z"
    }
   },
   "outputs": [
    {
     "data": {
      "text/plain": [
       "array(['Normal'], dtype=object)"
      ]
     },
     "execution_count": 19,
     "metadata": {},
     "output_type": "execute_result"
    }
   ],
   "source": [
    "# 예측\n",
    "knn_model.predict([[187, 80]])"
   ]
  },
  {
   "cell_type": "markdown",
   "id": "a054906b",
   "metadata": {},
   "source": [
    "#### 평가\n",
    "- 학습에 대한 평가 함수 score()"
   ]
  },
  {
   "cell_type": "code",
   "execution_count": 32,
   "id": "b7fb1209",
   "metadata": {
    "ExecuteTime": {
     "end_time": "2023-08-23T01:01:59.699347Z",
     "start_time": "2023-08-23T01:01:59.675052Z"
    }
   },
   "outputs": [
    {
     "data": {
      "text/plain": [
       "0.8933333333333333"
      ]
     },
     "execution_count": 32,
     "metadata": {},
     "output_type": "execute_result"
    }
   ],
   "source": [
    "# 만들어진 모델 평가 -> 학습에 사용하지 않은 새로운 문제와 정답을 비교\n",
    "# score(문제데이터, 정답데이터)\n",
    "knn_model.score(X_test, y_test)\n",
    "\n",
    "# 정답데이터와 예측정답을 비교\n",
    "# 0 ~ 1 까지 값을 출력\n",
    "# 0에 가깝다면 : 모델의 성능이 낮다, 규칙이 엉망이다 -> 규칙을 찾지 못함\n",
    "# 1에 가깝다면 : 모델의 성능이 괜찮다, 규칙을 잘 찾음\n",
    "\n",
    "# 0.9 : 10개의 문제중에서 9개를 맞춤"
   ]
  },
  {
   "cell_type": "code",
   "execution_count": 33,
   "id": "df50a27d",
   "metadata": {
    "ExecuteTime": {
     "end_time": "2023-08-23T01:02:01.267200Z",
     "start_time": "2023-08-23T01:02:01.236016Z"
    }
   },
   "outputs": [
    {
     "data": {
      "text/plain": [
       "0.9542857142857143"
      ]
     },
     "execution_count": 33,
     "metadata": {},
     "output_type": "execute_result"
    }
   ],
   "source": [
    "# 훈련용 데이터의 정확도\n",
    "knn_model.score(X_train, y_train)\n",
    "\n",
    "# 규칙을 찾는데 사용된 데이터이기 때문에 test보다는 score 값이 높음"
   ]
  },
  {
   "cell_type": "markdown",
   "id": "28598c16",
   "metadata": {},
   "source": [
    "### 하이퍼 파라미터 튜닝하기\n",
    "- KNN 모델의 하이퍼 파라미터(n_neighbors) 변화에 따라 score값을 확인\n",
    "- -> 최적의 하이퍼 파라미터를 찾기 위해"
   ]
  },
  {
   "cell_type": "code",
   "execution_count": 37,
   "id": "14fee21c",
   "metadata": {
    "ExecuteTime": {
     "end_time": "2023-08-23T01:06:12.134344Z",
     "start_time": "2023-08-23T01:06:12.106962Z"
    }
   },
   "outputs": [
    {
     "data": {
      "text/plain": [
       "0.9"
      ]
     },
     "execution_count": 37,
     "metadata": {},
     "output_type": "execute_result"
    }
   ],
   "source": [
    "#모델 만들기\n",
    "knn_model2 = KNeighborsClassifier(n_neighbors=3)\n",
    "knn_model2.fit(X_train,y_train)\n",
    "knn_model2.score(X_test, y_test)"
   ]
  },
  {
   "cell_type": "code",
   "execution_count": 45,
   "id": "687f5851",
   "metadata": {
    "ExecuteTime": {
     "end_time": "2023-08-23T01:24:35.895256Z",
     "start_time": "2023-08-23T01:24:35.800830Z"
    }
   },
   "outputs": [
    {
     "name": "stdout",
     "output_type": "stream",
     "text": [
      "1번째 score : 0.9066666666666666\n",
      "2번째 score : 0.9066666666666666\n",
      "3번째 score : 0.9\n",
      "4번째 score : 0.8933333333333333\n",
      "5번째 score : 0.9066666666666666\n",
      "6번째 score : 0.9133333333333333\n",
      "7번째 score : 0.9\n",
      "8번째 score : 0.9133333333333333\n",
      "9번째 score : 0.9133333333333333\n",
      "10번째 score : 0.94\n"
     ]
    }
   ],
   "source": [
    "for i in range(1,11):\n",
    "    knn_model3 = KNeighborsClassifier(n_neighbors=i)\n",
    "    knn_model3.fit(X_train,y_train)\n",
    "    print(f\"{i}번째 score : {knn_model3.score(X_test, y_test)}\")    "
   ]
  },
  {
   "cell_type": "markdown",
   "id": "4c578a1f",
   "metadata": {
    "ExecuteTime": {
     "end_time": "2023-08-23T01:04:51.238712Z",
     "start_time": "2023-08-23T01:04:51.220029Z"
    }
   },
   "source": [
    "#### 모델 복잡도 곡선 그려보기\n",
    "- 과대적합 과소적합, 일반화 확인하기"
   ]
  },
  {
   "cell_type": "code",
   "execution_count": 46,
   "id": "8e1fd6d6",
   "metadata": {
    "ExecuteTime": {
     "end_time": "2023-08-23T01:31:40.403112Z",
     "start_time": "2023-08-23T01:31:39.704427Z"
    }
   },
   "outputs": [],
   "source": [
    "# 훈련용과 평가용 데이터의 점수를 저장 -> list 생성\n",
    "# 훈련용 데이터 점수\n",
    "train_score = []\n",
    "\n",
    "# 평가용 데이터 점수\n",
    "test_score = []\n",
    "\n",
    "# n_neighbors : 1 ~ 30까지 반복\n",
    "for i in range(1,31):\n",
    "    # n_neighbors를 변경해가면서 모델 생성\n",
    "    knn_model4 = KNeighborsClassifier(n_neighbors=i)\n",
    "    \n",
    "    #생성된 모델 학습\n",
    "    knn_model4.fit(X_train,y_train)\n",
    "    \n",
    "    # 학습된 모델의 score값을 출력해 list에 저장하기\n",
    "    train_score.append(knn_model4.score(X_train, y_train))\n",
    "    test_score.append(knn_model4.score(X_test, y_test))"
   ]
  },
  {
   "cell_type": "code",
   "execution_count": 47,
   "id": "a7d84b2a",
   "metadata": {
    "ExecuteTime": {
     "end_time": "2023-08-23T01:31:44.115070Z",
     "start_time": "2023-08-23T01:31:44.095179Z"
    }
   },
   "outputs": [
    {
     "data": {
      "text/plain": [
       "[1.0,\n",
       " 0.9485714285714286,\n",
       " 0.9371428571428572,\n",
       " 0.9542857142857143,\n",
       " 0.9285714285714286,\n",
       " 0.9142857142857143,\n",
       " 0.9057142857142857,\n",
       " 0.9142857142857143,\n",
       " 0.9085714285714286,\n",
       " 0.9114285714285715,\n",
       " 0.9114285714285715,\n",
       " 0.9142857142857143,\n",
       " 0.9142857142857143,\n",
       " 0.9028571428571428,\n",
       " 0.8971428571428571,\n",
       " 0.9,\n",
       " 0.9057142857142857,\n",
       " 0.8828571428571429,\n",
       " 0.8914285714285715,\n",
       " 0.8771428571428571,\n",
       " 0.8714285714285714,\n",
       " 0.8514285714285714,\n",
       " 0.86,\n",
       " 0.8542857142857143,\n",
       " 0.8571428571428571,\n",
       " 0.8485714285714285,\n",
       " 0.8542857142857143,\n",
       " 0.8428571428571429,\n",
       " 0.8342857142857143,\n",
       " 0.8257142857142857]"
      ]
     },
     "execution_count": 47,
     "metadata": {},
     "output_type": "execute_result"
    }
   ],
   "source": [
    "train_score"
   ]
  },
  {
   "cell_type": "code",
   "execution_count": 48,
   "id": "2d7f417e",
   "metadata": {
    "ExecuteTime": {
     "end_time": "2023-08-23T01:34:59.974216Z",
     "start_time": "2023-08-23T01:34:59.830011Z"
    }
   },
   "outputs": [
    {
     "data": {
      "image/png": "[encoded data removed]",
      "text/plain": [
       "<Figure size 640x480 with 1 Axes>"
      ]
     },
     "metadata": {},
     "output_type": "display_data"
    }
   ],
   "source": [
    "# 그래프로 확인하기\n",
    "# 선 그래프 : plot(x, y)\n",
    "# X축(학습량) : n_neighbors = range(1,31)\n",
    "# Y축(정확도) : socre 값\n",
    "\n",
    "plt.plot(range(1,31),train_score, label='Train')\n",
    "plt.plot(range(1,31),test_score, label='Test')\n",
    "plt.legend()\n",
    "plt.show()"
   ]
  }
 ],
 "metadata": {
  "kernelspec": {
   "display_name": "Python 3 (ipykernel)",
   "language": "python",
   "name": "python3"
  },
  "language_info": {
   "codemirror_mode": {
    "name": "ipython",
    "version": 3
   },
   "file_extension": ".py",
   "mimetype": "text/x-python",
   "name": "python",
   "nbconvert_exporter": "python",
   "pygments_lexer": "ipython3",
   "version": "3.9.16"
  },
  "toc": {
   "base_numbering": 1,
   "nav_menu": {},
   "number_sections": true,
   "sideBar": true,
   "skip_h1_title": false,
   "title_cell": "Table of Contents",
   "title_sidebar": "Contents",
   "toc_cell": false,
   "toc_position": {
    "height": "calc(100% - 180px)",
    "left": "10px",
    "top": "150px",
    "width": "307.181px"
   },
   "toc_section_display": true,
   "toc_window_display": true
  }
 },
 "nbformat": 4,
 "nbformat_minor": 5
}
