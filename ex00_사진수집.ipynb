{
 "cells": [
  {
   "cell_type": "code",
   "execution_count": 2,
   "id": "1c754e8c",
   "metadata": {
    "ExecuteTime": {
     "end_time": "2023-09-15T07:40:49.243738Z",
     "start_time": "2023-09-15T07:40:49.234041Z"
    }
   },
   "outputs": [],
   "source": [
    "import pandas as pd\n",
    "from tqdm import tqdm\n",
    "import urllib.request as req"
   ]
  },
  {
   "cell_type": "code",
   "execution_count": 11,
   "id": "3649ebea",
   "metadata": {
    "ExecuteTime": {
     "end_time": "2023-09-15T07:48:58.803477Z",
     "start_time": "2023-09-15T07:48:58.769442Z"
    }
   },
   "outputs": [
    {
     "data": {
      "text/html": [
       "<div>\n",
       "<style scoped>\n",
       "    .dataframe tbody tr th:only-of-type {\n",
       "        vertical-align: middle;\n",
       "    }\n",
       "\n",
       "    .dataframe tbody tr th {\n",
       "        vertical-align: top;\n",
       "    }\n",
       "\n",
       "    .dataframe thead th {\n",
       "        text-align: right;\n",
       "    }\n",
       "</style>\n",
       "<table border=\"1\" class=\"dataframe\">\n",
       "  <thead>\n",
       "    <tr style=\"text-align: right;\">\n",
       "      <th></th>\n",
       "      <th>0</th>\n",
       "    </tr>\n",
       "  </thead>\n",
       "  <tbody>\n",
       "    <tr>\n",
       "      <th>0</th>\n",
       "      <td>https://search.pstatic.net/common/?src=http%3A...</td>\n",
       "    </tr>\n",
       "    <tr>\n",
       "      <th>1</th>\n",
       "      <td>https://search.pstatic.net/common/?src=http%3A...</td>\n",
       "    </tr>\n",
       "    <tr>\n",
       "      <th>2</th>\n",
       "      <td>https://search.pstatic.net/common/?src=http%3A...</td>\n",
       "    </tr>\n",
       "    <tr>\n",
       "      <th>3</th>\n",
       "      <td>https://search.pstatic.net/sunny/?src=https%3A...</td>\n",
       "    </tr>\n",
       "    <tr>\n",
       "      <th>4</th>\n",
       "      <td>data:image/gif;base64</td>\n",
       "    </tr>\n",
       "    <tr>\n",
       "      <th>...</th>\n",
       "      <td>...</td>\n",
       "    </tr>\n",
       "    <tr>\n",
       "      <th>592</th>\n",
       "      <td>R0lGODlhAQABAIAAAAAAAP///yH5BAEAAAAALAAAAAABAA...</td>\n",
       "    </tr>\n",
       "    <tr>\n",
       "      <th>593</th>\n",
       "      <td>https://search.pstatic.net/common/?src=http%3A...</td>\n",
       "    </tr>\n",
       "    <tr>\n",
       "      <th>594</th>\n",
       "      <td>https://search.pstatic.net/common/?src=http%3A...</td>\n",
       "    </tr>\n",
       "    <tr>\n",
       "      <th>595</th>\n",
       "      <td>https://search.pstatic.net/common/?src=http%3A...</td>\n",
       "    </tr>\n",
       "    <tr>\n",
       "      <th>596</th>\n",
       "      <td>https://search.pstatic.net/common/?src=http%3A...</td>\n",
       "    </tr>\n",
       "  </tbody>\n",
       "</table>\n",
       "<p>597 rows × 1 columns</p>\n",
       "</div>"
      ],
      "text/plain": [
       "                                                     0\n",
       "0    https://search.pstatic.net/common/?src=http%3A...\n",
       "1    https://search.pstatic.net/common/?src=http%3A...\n",
       "2    https://search.pstatic.net/common/?src=http%3A...\n",
       "3    https://search.pstatic.net/sunny/?src=https%3A...\n",
       "4                                data:image/gif;base64\n",
       "..                                                 ...\n",
       "592  R0lGODlhAQABAIAAAAAAAP///yH5BAEAAAAALAAAAAABAA...\n",
       "593  https://search.pstatic.net/common/?src=http%3A...\n",
       "594  https://search.pstatic.net/common/?src=http%3A...\n",
       "595  https://search.pstatic.net/common/?src=http%3A...\n",
       "596  https://search.pstatic.net/common/?src=http%3A...\n",
       "\n",
       "[597 rows x 1 columns]"
      ]
     },
     "execution_count": 11,
     "metadata": {},
     "output_type": "execute_result"
    }
   ],
   "source": [
    "data = pd.read_csv('./data/demo(서강준).csv', header=None).T\n",
    "data"
   ]
  },
  {
   "cell_type": "code",
   "execution_count": 10,
   "id": "c885802d",
   "metadata": {
    "ExecuteTime": {
     "end_time": "2023-09-15T07:48:37.758330Z",
     "start_time": "2023-09-15T07:48:13.227424Z"
    }
   },
   "outputs": [
    {
     "name": "stderr",
     "output_type": "stream",
     "text": [
      "403it [00:24, 16.44it/s]\n"
     ]
    }
   ],
   "source": [
    "for index, url in tqdm(enumerate(data[data[0].str.contains(\"http\")].values)) :\n",
    "    try :\n",
    "        filename = f'./data/서강준/서강준{index}.jpg'\n",
    "        req.urlretrieve(url[0],filename)\n",
    "    except :\n",
    "        continue"
   ]
  }
 ],
 "metadata": {
  "kernelspec": {
   "display_name": "Python 3 (ipykernel)",
   "language": "python",
   "name": "python3"
  },
  "language_info": {
   "codemirror_mode": {
    "name": "ipython",
    "version": 3
   },
   "file_extension": ".py",
   "mimetype": "text/x-python",
   "name": "python",
   "nbconvert_exporter": "python",
   "pygments_lexer": "ipython3",
   "version": "3.10.9"
  },
  "toc": {
   "base_numbering": 1,
   "nav_menu": {},
   "number_sections": true,
   "sideBar": true,
   "skip_h1_title": false,
   "title_cell": "Table of Contents",
   "title_sidebar": "Contents",
   "toc_cell": false,
   "toc_position": {},
   "toc_section_display": true,
   "toc_window_display": false
  }
 },
 "nbformat": 4,
 "nbformat_minor": 5
}
