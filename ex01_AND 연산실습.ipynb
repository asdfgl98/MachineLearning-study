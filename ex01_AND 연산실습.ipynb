{
 "cells": [
  {
   "cell_type": "markdown",
   "id": "444bc984",
   "metadata": {},
   "source": [
    "### 문제정의\n",
    "- AND 연산\n",
    "- 훈련데이터와 테스트데이터 이해하기\n",
    "- AND 연산의 결과를 도출하는 머신러닝 모델 학습하고 이해하기"
   ]
  },
  {
   "cell_type": "markdown",
   "id": "31bc9d89",
   "metadata": {},
   "source": [
    "###  데이터 만들기"
   ]
  },
  {
   "cell_type": "code",
   "execution_count": 1,
   "id": "37625034",
   "metadata": {
    "ExecuteTime": {
     "end_time": "2023-08-21T03:04:44.190766Z",
     "start_time": "2023-08-21T03:04:44.177275Z"
    }
   },
   "outputs": [],
   "source": [
    "# 필요한 도구 불러오기"
   ]
  },
  {
   "cell_type": "code",
   "execution_count": 8,
   "id": "4a8c0538",
   "metadata": {
    "ExecuteTime": {
     "end_time": "2023-08-22T00:31:35.915804Z",
     "start_time": "2023-08-22T00:31:33.030933Z"
    }
   },
   "outputs": [
    {
     "name": "stdout",
     "output_type": "stream",
     "text": [
      "Requirement already satisfied: pandas in c:\\users\\gjaischool1\\anaconda3\\envs\\notebook\\lib\\site-packages (2.0.3)\n",
      "Requirement already satisfied: python-dateutil>=2.8.2 in c:\\users\\gjaischool1\\anaconda3\\envs\\notebook\\lib\\site-packages (from pandas) (2.8.2)\n",
      "Requirement already satisfied: pytz>=2020.1 in c:\\users\\gjaischool1\\anaconda3\\envs\\notebook\\lib\\site-packages (from pandas) (2023.3)\n",
      "Requirement already satisfied: tzdata>=2022.1 in c:\\users\\gjaischool1\\anaconda3\\envs\\notebook\\lib\\site-packages (from pandas) (2023.3)\n",
      "Requirement already satisfied: numpy>=1.20.3 in c:\\users\\gjaischool1\\anaconda3\\envs\\notebook\\lib\\site-packages (from pandas) (1.25.1)\n",
      "Requirement already satisfied: six>=1.5 in c:\\users\\gjaischool1\\anaconda3\\envs\\notebook\\lib\\site-packages (from python-dateutil>=2.8.2->pandas) (1.16.0)\n",
      "Requirement already satisfied: numpy in c:\\users\\gjaischool1\\anaconda3\\envs\\notebook\\lib\\site-packages (1.25.1)\n"
     ]
    }
   ],
   "source": [
    "# 데이터프레임 만들기(데이터 생성)\n",
    "# 행 : 8 , 열(컬럼) : 3\n",
    "!pip install pandas\n",
    "!pip install numpy\n",
    "import pandas as pd\n",
    "import numpy as np"
   ]
  },
  {
   "cell_type": "code",
   "execution_count": 9,
   "id": "ab30333f",
   "metadata": {
    "ExecuteTime": {
     "end_time": "2023-08-22T00:31:35.931711Z",
     "start_time": "2023-08-22T00:31:35.918769Z"
    }
   },
   "outputs": [],
   "source": [
    "data = {\"A\":[0,0,1,1,1,0,1,0],\"B\":[0,1,0,1,0,0,1,1],\"AandB\":[0,0,0,1,0,0,1,0]}\n",
    "data =pd.DataFrame(data)"
   ]
  },
  {
   "cell_type": "markdown",
   "id": "8af3b69e",
   "metadata": {},
   "source": [
    "- 'A', 'B' : 문제데이터 => 머신러닝에서는 특성(feature), 독립변수, X(대문자), 속성 등 으로 표현함\n",
    "- 'AandB' : 정답데이터 => target, Label(레이블), 종속변수, y(소문자)"
   ]
  },
  {
   "cell_type": "markdown",
   "id": "3dea362e",
   "metadata": {},
   "source": [
    "### 데이터 전처리\n",
    "- 컬럼인덱싱으로 문제데이터(X)와 정답데이터(y)로 분리하기"
   ]
  },
  {
   "cell_type": "code",
   "execution_count": 16,
   "id": "2ec8abf7",
   "metadata": {
    "ExecuteTime": {
     "end_time": "2023-08-22T00:33:49.859855Z",
     "start_time": "2023-08-22T00:33:49.847949Z"
    }
   },
   "outputs": [
    {
     "data": {
      "text/html": [
       "<div>\n",
       "<style scoped>\n",
       "    .dataframe tbody tr th:only-of-type {\n",
       "        vertical-align: middle;\n",
       "    }\n",
       "\n",
       "    .dataframe tbody tr th {\n",
       "        vertical-align: top;\n",
       "    }\n",
       "\n",
       "    .dataframe thead th {\n",
       "        text-align: right;\n",
       "    }\n",
       "</style>\n",
       "<table border=\"1\" class=\"dataframe\">\n",
       "  <thead>\n",
       "    <tr style=\"text-align: right;\">\n",
       "      <th></th>\n",
       "      <th>A</th>\n",
       "      <th>B</th>\n",
       "    </tr>\n",
       "  </thead>\n",
       "  <tbody>\n",
       "    <tr>\n",
       "      <th>0</th>\n",
       "      <td>0</td>\n",
       "      <td>0</td>\n",
       "    </tr>\n",
       "    <tr>\n",
       "      <th>1</th>\n",
       "      <td>0</td>\n",
       "      <td>1</td>\n",
       "    </tr>\n",
       "    <tr>\n",
       "      <th>2</th>\n",
       "      <td>1</td>\n",
       "      <td>0</td>\n",
       "    </tr>\n",
       "    <tr>\n",
       "      <th>3</th>\n",
       "      <td>1</td>\n",
       "      <td>1</td>\n",
       "    </tr>\n",
       "    <tr>\n",
       "      <th>4</th>\n",
       "      <td>1</td>\n",
       "      <td>0</td>\n",
       "    </tr>\n",
       "    <tr>\n",
       "      <th>5</th>\n",
       "      <td>0</td>\n",
       "      <td>0</td>\n",
       "    </tr>\n",
       "    <tr>\n",
       "      <th>6</th>\n",
       "      <td>1</td>\n",
       "      <td>1</td>\n",
       "    </tr>\n",
       "    <tr>\n",
       "      <th>7</th>\n",
       "      <td>0</td>\n",
       "      <td>1</td>\n",
       "    </tr>\n",
       "  </tbody>\n",
       "</table>\n",
       "</div>"
      ],
      "text/plain": [
       "   A  B\n",
       "0  0  0\n",
       "1  0  1\n",
       "2  1  0\n",
       "3  1  1\n",
       "4  1  0\n",
       "5  0  0\n",
       "6  1  1\n",
       "7  0  1"
      ]
     },
     "metadata": {},
     "output_type": "display_data"
    },
    {
     "data": {
      "text/plain": [
       "0    0\n",
       "1    0\n",
       "2    0\n",
       "3    1\n",
       "4    0\n",
       "5    0\n",
       "6    1\n",
       "7    0\n",
       "Name: AandB, dtype: int64"
      ]
     },
     "metadata": {},
     "output_type": "display_data"
    }
   ],
   "source": [
    "#문제데이터\n",
    "X = data.loc[:,'A':'B']\n",
    "display(X)\n",
    "#정답데이터\n",
    "y = data['AandB']\n",
    "display(y)"
   ]
  },
  {
   "cell_type": "markdown",
   "id": "68b4d8f7",
   "metadata": {
    "ExecuteTime": {
     "end_time": "2023-08-21T03:30:10.500970Z",
     "start_time": "2023-08-21T03:30:10.485724Z"
    }
   },
   "source": [
    "#### 학습을 위해 문제데이터를 훈련용 데이터와 테스트용 데이터로 분할\n",
    "- 훈련 -> 학습용\n",
    "- 테스트 -> 검증용"
   ]
  },
  {
   "cell_type": "code",
   "execution_count": 20,
   "id": "dd3a5748",
   "metadata": {
    "ExecuteTime": {
     "end_time": "2023-08-22T00:34:52.332717Z",
     "start_time": "2023-08-22T00:34:52.318600Z"
    }
   },
   "outputs": [
    {
     "data": {
      "text/html": [
       "<div>\n",
       "<style scoped>\n",
       "    .dataframe tbody tr th:only-of-type {\n",
       "        vertical-align: middle;\n",
       "    }\n",
       "\n",
       "    .dataframe tbody tr th {\n",
       "        vertical-align: top;\n",
       "    }\n",
       "\n",
       "    .dataframe thead th {\n",
       "        text-align: right;\n",
       "    }\n",
       "</style>\n",
       "<table border=\"1\" class=\"dataframe\">\n",
       "  <thead>\n",
       "    <tr style=\"text-align: right;\">\n",
       "      <th></th>\n",
       "      <th>A</th>\n",
       "      <th>B</th>\n",
       "    </tr>\n",
       "  </thead>\n",
       "  <tbody>\n",
       "    <tr>\n",
       "      <th>0</th>\n",
       "      <td>0</td>\n",
       "      <td>0</td>\n",
       "    </tr>\n",
       "    <tr>\n",
       "      <th>1</th>\n",
       "      <td>0</td>\n",
       "      <td>1</td>\n",
       "    </tr>\n",
       "    <tr>\n",
       "      <th>2</th>\n",
       "      <td>1</td>\n",
       "      <td>0</td>\n",
       "    </tr>\n",
       "    <tr>\n",
       "      <th>3</th>\n",
       "      <td>1</td>\n",
       "      <td>1</td>\n",
       "    </tr>\n",
       "    <tr>\n",
       "      <th>4</th>\n",
       "      <td>1</td>\n",
       "      <td>0</td>\n",
       "    </tr>\n",
       "    <tr>\n",
       "      <th>5</th>\n",
       "      <td>0</td>\n",
       "      <td>0</td>\n",
       "    </tr>\n",
       "  </tbody>\n",
       "</table>\n",
       "</div>"
      ],
      "text/plain": [
       "   A  B\n",
       "0  0  0\n",
       "1  0  1\n",
       "2  1  0\n",
       "3  1  1\n",
       "4  1  0\n",
       "5  0  0"
      ]
     },
     "metadata": {},
     "output_type": "display_data"
    },
    {
     "data": {
      "text/html": [
       "<div>\n",
       "<style scoped>\n",
       "    .dataframe tbody tr th:only-of-type {\n",
       "        vertical-align: middle;\n",
       "    }\n",
       "\n",
       "    .dataframe tbody tr th {\n",
       "        vertical-align: top;\n",
       "    }\n",
       "\n",
       "    .dataframe thead th {\n",
       "        text-align: right;\n",
       "    }\n",
       "</style>\n",
       "<table border=\"1\" class=\"dataframe\">\n",
       "  <thead>\n",
       "    <tr style=\"text-align: right;\">\n",
       "      <th></th>\n",
       "      <th>A</th>\n",
       "      <th>B</th>\n",
       "    </tr>\n",
       "  </thead>\n",
       "  <tbody>\n",
       "    <tr>\n",
       "      <th>6</th>\n",
       "      <td>1</td>\n",
       "      <td>1</td>\n",
       "    </tr>\n",
       "    <tr>\n",
       "      <th>7</th>\n",
       "      <td>0</td>\n",
       "      <td>1</td>\n",
       "    </tr>\n",
       "  </tbody>\n",
       "</table>\n",
       "</div>"
      ],
      "text/plain": [
       "   A  B\n",
       "6  1  1\n",
       "7  0  1"
      ]
     },
     "metadata": {},
     "output_type": "display_data"
    },
    {
     "data": {
      "text/plain": [
       "0    0\n",
       "1    0\n",
       "2    0\n",
       "3    1\n",
       "4    0\n",
       "5    0\n",
       "Name: AandB, dtype: int64"
      ]
     },
     "metadata": {},
     "output_type": "display_data"
    },
    {
     "data": {
      "text/plain": [
       "6    1\n",
       "7    0\n",
       "Name: AandB, dtype: int64"
      ]
     },
     "metadata": {},
     "output_type": "display_data"
    }
   ],
   "source": [
    "# 훈련용과 테스트용 분할\n",
    "# 훈련데이터 X, y : 0 ~ 5번까지 행 슬라이싱\n",
    "X_train = X.loc[:5,:] #훈련용 문제\n",
    "X_test = X.loc[6:,:] #테스트용 문제\n",
    "#테스트데이터 X, y : 6 ~ 7번까지 행 슬라이싱\n",
    "y_train = y[:6]\n",
    "y_test = y[6:]\n",
    "display(X_train)\n",
    "display(X_test)\n",
    "display(y_train)\n",
    "display(y_test)"
   ]
  },
  {
   "cell_type": "code",
   "execution_count": 12,
   "id": "7f7f63e9",
   "metadata": {
    "ExecuteTime": {
     "end_time": "2023-08-22T00:31:36.054762Z",
     "start_time": "2023-08-22T00:31:36.044259Z"
    }
   },
   "outputs": [
    {
     "name": "stdout",
     "output_type": "stream",
     "text": [
      "훈련용문제 :  (6, 2)\n",
      "테스트용문제 :  (2, 2)\n",
      "훈련용정답 :  (6, 1)\n",
      "테스트용정답 :  (2, 1)\n"
     ]
    }
   ],
   "source": [
    "print('훈련용문제 : ', X_train.shape)\n",
    "print('테스트용문제 : ', X_test.shape)\n",
    "print('훈련용정답 : ', y_train.shape)\n",
    "print('테스트용정답 : ', y_test.shape)"
   ]
  },
  {
   "cell_type": "markdown",
   "id": "66d22cbb",
   "metadata": {},
   "source": [
    "- 전처리 다음단계가 탐색적 데이터분석(데이터 시각화 확인)이지만, 데이터가 간략하기때문에 생략"
   ]
  },
  {
   "cell_type": "markdown",
   "id": "55bd8921",
   "metadata": {},
   "source": [
    "### 머신러닝 모델 학습하기"
   ]
  },
  {
   "cell_type": "markdown",
   "id": "cba13751",
   "metadata": {},
   "source": [
    "#### 학습하기 위한 머신러닝 모델 불러오기"
   ]
  },
  {
   "cell_type": "code",
   "execution_count": 1,
   "id": "4990a3d8",
   "metadata": {
    "ExecuteTime": {
     "end_time": "2023-08-22T00:09:38.252289Z",
     "start_time": "2023-08-22T00:08:24.346581Z"
    }
   },
   "outputs": [
    {
     "name": "stdout",
     "output_type": "stream",
     "text": [
      "Collecting scikit-learn\n",
      "  Downloading scikit_learn-1.3.0-cp39-cp39-win_amd64.whl (9.3 MB)\n",
      "                                              0.0/9.3 MB ? eta -:--:--\n",
      "                                              0.0/9.3 MB ? eta -:--:--\n",
      "                                              0.1/9.3 MB 991.0 kB/s eta 0:00:10\n",
      "     --                                       0.6/9.3 MB 4.3 MB/s eta 0:00:03\n",
      "     ----                                     1.1/9.3 MB 6.1 MB/s eta 0:00:02\n",
      "     -------                                  1.7/9.3 MB 7.2 MB/s eta 0:00:02\n",
      "     ---------                                2.2/9.3 MB 7.9 MB/s eta 0:00:01\n",
      "     -----------                              2.8/9.3 MB 8.4 MB/s eta 0:00:01\n",
      "     --------------                           3.3/9.3 MB 8.8 MB/s eta 0:00:01\n",
      "     ----------------                         3.8/9.3 MB 9.1 MB/s eta 0:00:01\n",
      "     ------------------                       4.4/9.3 MB 9.3 MB/s eta 0:00:01\n",
      "     ---------------------                    4.9/9.3 MB 9.5 MB/s eta 0:00:01\n",
      "     -----------------------                  5.5/9.3 MB 9.7 MB/s eta 0:00:01\n",
      "     -------------------------                6.0/9.3 MB 9.9 MB/s eta 0:00:01\n",
      "     ----------------------------             6.6/9.3 MB 10.2 MB/s eta 0:00:01\n",
      "     ------------------------------           7.1/9.3 MB 10.3 MB/s eta 0:00:01\n",
      "     --------------------------------         7.7/9.3 MB 10.4 MB/s eta 0:00:01\n",
      "     -----------------------------------      8.2/9.3 MB 10.5 MB/s eta 0:00:01\n",
      "     -------------------------------------    8.8/9.3 MB 10.6 MB/s eta 0:00:01\n",
      "     ---------------------------------------  9.3/9.3 MB 10.6 MB/s eta 0:00:01\n",
      "     ---------------------------------------- 9.3/9.3 MB 10.3 MB/s eta 0:00:00\n",
      "Requirement already satisfied: numpy>=1.17.3 in c:\\users\\gjaischool1\\anaconda3\\envs\\notebook\\lib\\site-packages (from scikit-learn) (1.25.1)\n",
      "Collecting scipy>=1.5.0 (from scikit-learn)\n",
      "  Downloading scipy-1.11.2-cp39-cp39-win_amd64.whl (44.1 MB)\n",
      "                                              0.0/44.1 MB ? eta -:--:--\n",
      "                                              0.6/44.1 MB 17.8 MB/s eta 0:00:03\n",
      "                                              1.1/44.1 MB 13.9 MB/s eta 0:00:04\n",
      "     -                                        1.6/44.1 MB 12.9 MB/s eta 0:00:04\n",
      "     -                                        2.2/44.1 MB 12.7 MB/s eta 0:00:04\n",
      "     --                                       2.7/44.1 MB 12.4 MB/s eta 0:00:04\n",
      "     --                                       3.3/44.1 MB 12.3 MB/s eta 0:00:04\n",
      "     ---                                      3.8/44.1 MB 12.2 MB/s eta 0:00:04\n",
      "     ---                                      4.4/44.1 MB 12.2 MB/s eta 0:00:04\n",
      "     ----                                     4.9/44.1 MB 12.1 MB/s eta 0:00:04\n",
      "     ----                                     5.5/44.1 MB 12.0 MB/s eta 0:00:04\n",
      "     -----                                    6.0/44.1 MB 12.0 MB/s eta 0:00:04\n",
      "     -----                                    6.6/44.1 MB 12.0 MB/s eta 0:00:04\n",
      "     ------                                   7.1/44.1 MB 12.0 MB/s eta 0:00:04\n",
      "     ------                                   7.7/44.1 MB 11.9 MB/s eta 0:00:04\n",
      "     -------                                  8.2/44.1 MB 11.9 MB/s eta 0:00:04\n",
      "     -------                                  8.7/44.1 MB 11.9 MB/s eta 0:00:03\n",
      "     --------                                 9.3/44.1 MB 11.9 MB/s eta 0:00:03\n",
      "     --------                                 9.8/44.1 MB 11.8 MB/s eta 0:00:03\n",
      "     ---------                               10.4/44.1 MB 11.7 MB/s eta 0:00:03\n",
      "     ---------                               10.9/44.1 MB 11.7 MB/s eta 0:00:03\n",
      "     ----------                              11.4/44.1 MB 11.7 MB/s eta 0:00:03\n",
      "     ----------                              11.9/44.1 MB 11.7 MB/s eta 0:00:03\n",
      "     -----------                             12.5/44.1 MB 11.7 MB/s eta 0:00:03\n",
      "     -----------                             13.0/44.1 MB 11.5 MB/s eta 0:00:03\n",
      "     -----------                             13.3/44.1 MB 11.5 MB/s eta 0:00:03\n",
      "     ------------                            14.0/44.1 MB 11.5 MB/s eta 0:00:03\n",
      "     ------------                            14.6/44.1 MB 11.5 MB/s eta 0:00:03\n",
      "     -------------                           15.1/44.1 MB 11.5 MB/s eta 0:00:03\n",
      "     -------------                           15.6/44.1 MB 11.5 MB/s eta 0:00:03\n",
      "     --------------                          16.2/44.1 MB 11.5 MB/s eta 0:00:03\n",
      "     --------------                          16.7/44.1 MB 11.5 MB/s eta 0:00:03\n",
      "     ---------------                         17.3/44.1 MB 11.5 MB/s eta 0:00:03\n",
      "     ---------------                         17.8/44.1 MB 11.5 MB/s eta 0:00:03\n",
      "     ----------------                        18.4/44.1 MB 11.5 MB/s eta 0:00:03\n",
      "     ----------------                        18.9/44.1 MB 11.5 MB/s eta 0:00:03\n",
      "     -----------------                       19.4/44.1 MB 11.5 MB/s eta 0:00:03\n",
      "     -----------------                       20.0/44.1 MB 11.5 MB/s eta 0:00:03\n",
      "     ------------------                      20.5/44.1 MB 11.5 MB/s eta 0:00:03\n",
      "     ------------------                      21.0/44.1 MB 11.5 MB/s eta 0:00:03\n",
      "     -------------------                     21.6/44.1 MB 11.5 MB/s eta 0:00:02\n",
      "     -------------------                     22.1/44.1 MB 11.5 MB/s eta 0:00:02\n",
      "     --------------------                    22.7/44.1 MB 11.5 MB/s eta 0:00:02\n",
      "     --------------------                    23.2/44.1 MB 11.5 MB/s eta 0:00:02\n",
      "     --------------------                    23.6/44.1 MB 11.7 MB/s eta 0:00:02\n",
      "     ---------------------                   24.1/44.1 MB 11.3 MB/s eta 0:00:02\n",
      "     ---------------------                   24.7/44.1 MB 11.5 MB/s eta 0:00:02\n",
      "     ----------------------                  25.2/44.1 MB 11.5 MB/s eta 0:00:02\n",
      "     ----------------------                  25.8/44.1 MB 11.5 MB/s eta 0:00:02\n",
      "     -----------------------                 26.3/44.1 MB 11.5 MB/s eta 0:00:02\n",
      "     -----------------------                 26.8/44.1 MB 11.5 MB/s eta 0:00:02\n",
      "     ------------------------                27.4/44.1 MB 11.5 MB/s eta 0:00:02\n",
      "     ------------------------                27.9/44.1 MB 11.5 MB/s eta 0:00:02\n",
      "     -------------------------               28.5/44.1 MB 11.5 MB/s eta 0:00:02\n",
      "     -------------------------               29.0/44.1 MB 11.5 MB/s eta 0:00:02\n",
      "     --------------------------              29.6/44.1 MB 11.5 MB/s eta 0:00:02\n",
      "     --------------------------              30.1/44.1 MB 11.5 MB/s eta 0:00:02\n",
      "     --------------------------              30.4/44.1 MB 11.5 MB/s eta 0:00:02\n",
      "     --------------------------              30.4/44.1 MB 11.5 MB/s eta 0:00:02\n",
      "     ---------------------------             30.9/44.1 MB 10.6 MB/s eta 0:00:02\n",
      "     ---------------------------             31.4/44.1 MB 10.6 MB/s eta 0:00:02\n",
      "     ----------------------------            31.9/44.1 MB 10.6 MB/s eta 0:00:02\n",
      "     ----------------------------            32.5/44.1 MB 10.6 MB/s eta 0:00:02\n",
      "     -----------------------------           33.0/44.1 MB 10.6 MB/s eta 0:00:02\n",
      "     -----------------------------           33.5/44.1 MB 10.6 MB/s eta 0:00:02\n",
      "     -----------------------------           33.9/44.1 MB 10.6 MB/s eta 0:00:01\n",
      "     ------------------------------          34.4/44.1 MB 10.6 MB/s eta 0:00:01\n",
      "     ------------------------------          35.0/44.1 MB 10.6 MB/s eta 0:00:01\n",
      "     -------------------------------         35.5/44.1 MB 10.6 MB/s eta 0:00:01\n",
      "     -------------------------------         36.0/44.1 MB 10.6 MB/s eta 0:00:01\n",
      "     --------------------------------        36.6/44.1 MB 10.6 MB/s eta 0:00:01\n",
      "     --------------------------------        37.1/44.1 MB 10.6 MB/s eta 0:00:01\n",
      "     ---------------------------------       37.7/44.1 MB 10.6 MB/s eta 0:00:01\n",
      "     ---------------------------------       38.2/44.1 MB 10.6 MB/s eta 0:00:01\n",
      "     ----------------------------------      38.8/44.1 MB 10.6 MB/s eta 0:00:01\n",
      "     ----------------------------------      39.3/44.1 MB 10.6 MB/s eta 0:00:01\n",
      "     -----------------------------------     39.9/44.1 MB 10.6 MB/s eta 0:00:01\n",
      "     -----------------------------------     40.4/44.1 MB 10.4 MB/s eta 0:00:01\n",
      "     ------------------------------------    40.9/44.1 MB 11.3 MB/s eta 0:00:01\n",
      "     ------------------------------------    41.5/44.1 MB 11.3 MB/s eta 0:00:01\n",
      "     -------------------------------------   42.0/44.1 MB 11.3 MB/s eta 0:00:01\n",
      "     -------------------------------------   42.6/44.1 MB 11.3 MB/s eta 0:00:01\n",
      "     --------------------------------------  43.1/44.1 MB 11.3 MB/s eta 0:00:01\n",
      "     --------------------------------------  43.6/44.1 MB 11.3 MB/s eta 0:00:01\n",
      "     --------------------------------------  44.1/44.1 MB 11.7 MB/s eta 0:00:01\n",
      "     --------------------------------------  44.1/44.1 MB 11.7 MB/s eta 0:00:01\n",
      "     --------------------------------------- 44.1/44.1 MB 10.2 MB/s eta 0:00:00\n",
      "Collecting joblib>=1.1.1 (from scikit-learn)\n",
      "  Downloading joblib-1.3.2-py3-none-any.whl (302 kB)\n",
      "                                              0.0/302.2 kB ? eta -:--:--\n",
      "     -------------------------------------- 302.2/302.2 kB 9.4 MB/s eta 0:00:00\n",
      "Collecting threadpoolctl>=2.0.0 (from scikit-learn)\n",
      "  Downloading threadpoolctl-3.2.0-py3-none-any.whl (15 kB)\n",
      "Installing collected packages: threadpoolctl, scipy, joblib, scikit-learn\n",
      "Successfully installed joblib-1.3.2 scikit-learn-1.3.0 scipy-1.11.2 threadpoolctl-3.2.0\n",
      "Note: you may need to restart the kernel to use updated packages.\n"
     ]
    }
   ],
   "source": [
    "pip install scikit-learn"
   ]
  },
  {
   "cell_type": "code",
   "execution_count": 3,
   "id": "b30c9e1a",
   "metadata": {
    "ExecuteTime": {
     "end_time": "2023-08-22T00:09:53.225637Z",
     "start_time": "2023-08-22T00:09:53.211188Z"
    }
   },
   "outputs": [],
   "source": [
    "# scikit-learn 머신러닝용 패키지 라이브러리\n",
    "\n",
    "from sklearn.neighbors import KNeighborsClassifier"
   ]
  },
  {
   "cell_type": "markdown",
   "id": "05373ba8",
   "metadata": {},
   "source": [
    "####  모델 생성 및 하이퍼파라미터 정의"
   ]
  },
  {
   "cell_type": "code",
   "execution_count": 13,
   "id": "1ed3d947",
   "metadata": {
    "ExecuteTime": {
     "end_time": "2023-08-22T00:31:41.377050Z",
     "start_time": "2023-08-22T00:31:41.359660Z"
    }
   },
   "outputs": [],
   "source": [
    "# KNN모델(나와 가장가까운 이웃)\n",
    "# 클래스이므로 소괄호 안에서 shift + tab => 클래스 내부에서 사용할 수 있는 속성 확인가능\n",
    "knn_model = KNeighborsClassifier(n_neighbors=1)\n",
    "# n_neighbors : 하이퍼 파라미터 (사용자가 입력하는 매개변수) 기본값이 5임\n",
    "# 하이퍼 파라미터에 따라 모델의 학습결과가 달라짐\n",
    "# 가장 가까운 이웃 1개의 실제답만 확인하겠음 => 가장 가까운 이웃들의 답을 확인하고 그 답이 내것인것 처럼 사용"
   ]
  },
  {
   "cell_type": "markdown",
   "id": "465e0743",
   "metadata": {},
   "source": [
    "#### 모델 학습"
   ]
  },
  {
   "cell_type": "code",
   "execution_count": 21,
   "id": "e192548d",
   "metadata": {
    "ExecuteTime": {
     "end_time": "2023-08-22T00:34:58.313842Z",
     "start_time": "2023-08-22T00:34:58.302695Z"
    }
   },
   "outputs": [
    {
     "data": {
      "text/html": [
       "<style>#sk-container-id-2 {color: black;}#sk-container-id-2 pre{padding: 0;}#sk-container-id-2 div.sk-toggleable {background-color: white;}#sk-container-id-2 label.sk-toggleable__label {cursor: pointer;display: block;width: 100%;margin-bottom: 0;padding: 0.3em;box-sizing: border-box;text-align: center;}#sk-container-id-2 label.sk-toggleable__label-arrow:before {content: \"▸\";float: left;margin-right: 0.25em;color: #696969;}#sk-container-id-2 label.sk-toggleable__label-arrow:hover:before {color: black;}#sk-container-id-2 div.sk-estimator:hover label.sk-toggleable__label-arrow:before {color: black;}#sk-container-id-2 div.sk-toggleable__content {max-height: 0;max-width: 0;overflow: hidden;text-align: left;background-color: #f0f8ff;}#sk-container-id-2 div.sk-toggleable__content pre {margin: 0.2em;color: black;border-radius: 0.25em;background-color: #f0f8ff;}#sk-container-id-2 input.sk-toggleable__control:checked~div.sk-toggleable__content {max-height: 200px;max-width: 100%;overflow: auto;}#sk-container-id-2 input.sk-toggleable__control:checked~label.sk-toggleable__label-arrow:before {content: \"▾\";}#sk-container-id-2 div.sk-estimator input.sk-toggleable__control:checked~label.sk-toggleable__label {background-color: #d4ebff;}#sk-container-id-2 div.sk-label input.sk-toggleable__control:checked~label.sk-toggleable__label {background-color: #d4ebff;}#sk-container-id-2 input.sk-hidden--visually {border: 0;clip: rect(1px 1px 1px 1px);clip: rect(1px, 1px, 1px, 1px);height: 1px;margin: -1px;overflow: hidden;padding: 0;position: absolute;width: 1px;}#sk-container-id-2 div.sk-estimator {font-family: monospace;background-color: #f0f8ff;border: 1px dotted black;border-radius: 0.25em;box-sizing: border-box;margin-bottom: 0.5em;}#sk-container-id-2 div.sk-estimator:hover {background-color: #d4ebff;}#sk-container-id-2 div.sk-parallel-item::after {content: \"\";width: 100%;border-bottom: 1px solid gray;flex-grow: 1;}#sk-container-id-2 div.sk-label:hover label.sk-toggleable__label {background-color: #d4ebff;}#sk-container-id-2 div.sk-serial::before {content: \"\";position: absolute;border-left: 1px solid gray;box-sizing: border-box;top: 0;bottom: 0;left: 50%;z-index: 0;}#sk-container-id-2 div.sk-serial {display: flex;flex-direction: column;align-items: center;background-color: white;padding-right: 0.2em;padding-left: 0.2em;position: relative;}#sk-container-id-2 div.sk-item {position: relative;z-index: 1;}#sk-container-id-2 div.sk-parallel {display: flex;align-items: stretch;justify-content: center;background-color: white;position: relative;}#sk-container-id-2 div.sk-item::before, #sk-container-id-2 div.sk-parallel-item::before {content: \"\";position: absolute;border-left: 1px solid gray;box-sizing: border-box;top: 0;bottom: 0;left: 50%;z-index: -1;}#sk-container-id-2 div.sk-parallel-item {display: flex;flex-direction: column;z-index: 1;position: relative;background-color: white;}#sk-container-id-2 div.sk-parallel-item:first-child::after {align-self: flex-end;width: 50%;}#sk-container-id-2 div.sk-parallel-item:last-child::after {align-self: flex-start;width: 50%;}#sk-container-id-2 div.sk-parallel-item:only-child::after {width: 0;}#sk-container-id-2 div.sk-dashed-wrapped {border: 1px dashed gray;margin: 0 0.4em 0.5em 0.4em;box-sizing: border-box;padding-bottom: 0.4em;background-color: white;}#sk-container-id-2 div.sk-label label {font-family: monospace;font-weight: bold;display: inline-block;line-height: 1.2em;}#sk-container-id-2 div.sk-label-container {text-align: center;}#sk-container-id-2 div.sk-container {/* jupyter's `normalize.less` sets `[hidden] { display: none; }` but bootstrap.min.css set `[hidden] { display: none !important; }` so we also need the `!important` here to be able to override the default hidden behavior on the sphinx rendered scikit-learn.org. See: https://github.com/scikit-learn/scikit-learn/issues/21755 */display: inline-block !important;position: relative;}#sk-container-id-2 div.sk-text-repr-fallback {display: none;}</style><div id=\"sk-container-id-2\" class=\"sk-top-container\"><div class=\"sk-text-repr-fallback\"><pre>KNeighborsClassifier(n_neighbors=1)</pre><b>In a Jupyter environment, please rerun this cell to show the HTML representation or trust the notebook. <br />On GitHub, the HTML representation is unable to render, please try loading this page with nbviewer.org.</b></div><div class=\"sk-container\" hidden><div class=\"sk-item\"><div class=\"sk-estimator sk-toggleable\"><input class=\"sk-toggleable__control sk-hidden--visually\" id=\"sk-estimator-id-2\" type=\"checkbox\" checked><label for=\"sk-estimator-id-2\" class=\"sk-toggleable__label sk-toggleable__label-arrow\">KNeighborsClassifier</label><div class=\"sk-toggleable__content\"><pre>KNeighborsClassifier(n_neighbors=1)</pre></div></div></div></div></div>"
      ],
      "text/plain": [
       "KNeighborsClassifier(n_neighbors=1)"
      ]
     },
     "execution_count": 21,
     "metadata": {},
     "output_type": "execute_result"
    }
   ],
   "source": [
    "# 모델 학습 -> fit() 함수 사용\n",
    "# 학습을 통해 데이터 패턴, 성향을 파악해서 규칙을 생성\n",
    "# fit(훈련용문제, 훈련용정답)\n",
    "knn_model.fit(X_train, y_train)"
   ]
  },
  {
   "cell_type": "markdown",
   "id": "aa16cb7c",
   "metadata": {},
   "source": [
    "#### AND 연산 예측"
   ]
  },
  {
   "cell_type": "code",
   "execution_count": 23,
   "id": "e09ce1a7",
   "metadata": {
    "ExecuteTime": {
     "end_time": "2023-08-22T00:38:40.497737Z",
     "start_time": "2023-08-22T00:38:40.484963Z"
    }
   },
   "outputs": [
    {
     "data": {
      "text/html": [
       "<div>\n",
       "<style scoped>\n",
       "    .dataframe tbody tr th:only-of-type {\n",
       "        vertical-align: middle;\n",
       "    }\n",
       "\n",
       "    .dataframe tbody tr th {\n",
       "        vertical-align: top;\n",
       "    }\n",
       "\n",
       "    .dataframe thead th {\n",
       "        text-align: right;\n",
       "    }\n",
       "</style>\n",
       "<table border=\"1\" class=\"dataframe\">\n",
       "  <thead>\n",
       "    <tr style=\"text-align: right;\">\n",
       "      <th></th>\n",
       "      <th>A</th>\n",
       "      <th>B</th>\n",
       "    </tr>\n",
       "  </thead>\n",
       "  <tbody>\n",
       "    <tr>\n",
       "      <th>6</th>\n",
       "      <td>1</td>\n",
       "      <td>1</td>\n",
       "    </tr>\n",
       "    <tr>\n",
       "      <th>7</th>\n",
       "      <td>0</td>\n",
       "      <td>1</td>\n",
       "    </tr>\n",
       "  </tbody>\n",
       "</table>\n",
       "</div>"
      ],
      "text/plain": [
       "   A  B\n",
       "6  1  1\n",
       "7  0  1"
      ]
     },
     "execution_count": 23,
     "metadata": {},
     "output_type": "execute_result"
    }
   ],
   "source": [
    "X_test"
   ]
  },
  {
   "cell_type": "code",
   "execution_count": 22,
   "id": "8d9cfe72",
   "metadata": {
    "ExecuteTime": {
     "end_time": "2023-08-22T00:37:06.679392Z",
     "start_time": "2023-08-22T00:37:06.661493Z"
    }
   },
   "outputs": [
    {
     "data": {
      "text/plain": [
       "array([1, 0], dtype=int64)"
      ]
     },
     "execution_count": 22,
     "metadata": {},
     "output_type": "execute_result"
    }
   ],
   "source": [
    "#predict(테스트용 문제)\n",
    "\n",
    "# and 연산 예측\n",
    "# 0, 0 --> 0\n",
    "# 1, 1 --> 1\n",
    "# 0, 1 --> 0\n",
    "\n",
    "pre = knn_model.predict(X_test) # 결과를 활용하기 위해 변수에 담아주기\n",
    "pre"
   ]
  },
  {
   "cell_type": "code",
   "execution_count": 24,
   "id": "c4726372",
   "metadata": {
    "ExecuteTime": {
     "end_time": "2023-08-22T00:39:21.581295Z",
     "start_time": "2023-08-22T00:39:21.572768Z"
    }
   },
   "outputs": [
    {
     "data": {
      "text/plain": [
       "6    1\n",
       "7    0\n",
       "Name: AandB, dtype: int64"
      ]
     },
     "execution_count": 24,
     "metadata": {},
     "output_type": "execute_result"
    }
   ],
   "source": [
    "y_test"
   ]
  },
  {
   "cell_type": "markdown",
   "id": "7fe201a2",
   "metadata": {},
   "source": [
    "### 평가"
   ]
  },
  {
   "cell_type": "markdown",
   "id": "ef0055ee",
   "metadata": {},
   "source": [
    "#### 모델 평가하는 모듈 불러오기"
   ]
  },
  {
   "cell_type": "code",
   "execution_count": 25,
   "id": "e494d008",
   "metadata": {
    "ExecuteTime": {
     "end_time": "2023-08-22T00:41:28.295125Z",
     "start_time": "2023-08-22T00:41:28.279142Z"
    }
   },
   "outputs": [],
   "source": [
    "from sklearn.metrics import accuracy_score # 정확도 점수(모델의 성능 평가 지표)"
   ]
  },
  {
   "cell_type": "code",
   "execution_count": 26,
   "id": "fcac5f6b",
   "metadata": {
    "ExecuteTime": {
     "end_time": "2023-08-22T00:44:39.127673Z",
     "start_time": "2023-08-22T00:44:39.117270Z"
    }
   },
   "outputs": [
    {
     "data": {
      "text/plain": [
       "1.0"
      ]
     },
     "execution_count": 26,
     "metadata": {},
     "output_type": "execute_result"
    }
   ],
   "source": [
    "# 정확도 : 0 -> 0 정답\n",
    "#         1 -> 0  오답\n",
    "# accuracy_score : KNN 모델이 가지고있는 함수가 아니고, 자체적인 함수 (다른 모델에서도 사용가능) 0.0~ 1.0\n",
    "# accuracy_score(실제 정답, 예측값)\n",
    "accuracy_score(y_test, pre) # 확률정보로 값을 표시, 1.0 => 100% 정답이라는 의미\n",
    "# 0.0에 가까울수록 모델의 성능이 좋지 않다\n",
    "# 1.0에 가까울수록 모델의 성능이 나름 괜찮음"
   ]
  },
  {
   "cell_type": "code",
   "execution_count": null,
   "id": "ab9b54ec",
   "metadata": {},
   "outputs": [],
   "source": []
  },
  {
   "cell_type": "code",
   "execution_count": null,
   "id": "5ad65d08",
   "metadata": {},
   "outputs": [],
   "source": []
  },
  {
   "cell_type": "code",
   "execution_count": null,
   "id": "5a0df276",
   "metadata": {},
   "outputs": [],
   "source": []
  },
  {
   "cell_type": "code",
   "execution_count": null,
   "id": "c4b50469",
   "metadata": {},
   "outputs": [],
   "source": []
  },
  {
   "cell_type": "code",
   "execution_count": null,
   "id": "dd40e91f",
   "metadata": {},
   "outputs": [],
   "source": []
  },
  {
   "cell_type": "code",
   "execution_count": null,
   "id": "2f1680cb",
   "metadata": {},
   "outputs": [],
   "source": []
  }
 ],
 "metadata": {
  "kernelspec": {
   "display_name": "Python 3 (ipykernel)",
   "language": "python",
   "name": "python3"
  },
  "language_info": {
   "codemirror_mode": {
    "name": "ipython",
    "version": 3
   },
   "file_extension": ".py",
   "mimetype": "text/x-python",
   "name": "python",
   "nbconvert_exporter": "python",
   "pygments_lexer": "ipython3",
   "version": "3.9.16"
  },
  "toc": {
   "base_numbering": 1,
   "nav_menu": {},
   "number_sections": true,
   "sideBar": true,
   "skip_h1_title": false,
   "title_cell": "Table of Contents",
   "title_sidebar": "Contents",
   "toc_cell": false,
   "toc_position": {},
   "toc_section_display": true,
   "toc_window_display": false
  }
 },
 "nbformat": 4,
 "nbformat_minor": 5
}
